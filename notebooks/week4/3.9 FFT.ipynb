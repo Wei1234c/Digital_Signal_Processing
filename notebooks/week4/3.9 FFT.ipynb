{
 "cells": [
  {
   "cell_type": "markdown",
   "metadata": {},
   "source": [
    "# 3.9 FFT"
   ]
  },
  {
   "cell_type": "code",
   "execution_count": 50,
   "metadata": {},
   "outputs": [
    {
     "name": "stdout",
     "output_type": "stream",
     "text": [
      "Populating the interactive namespace from numpy and matplotlib\n"
     ]
    }
   ],
   "source": [
    "%pylab inline\n",
    "from pprint import pprint"
   ]
  },
  {
   "cell_type": "code",
   "execution_count": 40,
   "metadata": {},
   "outputs": [],
   "source": [
    "PI2 = 2 * np.pi"
   ]
  },
  {
   "cell_type": "code",
   "execution_count": 41,
   "metadata": {},
   "outputs": [],
   "source": [
    "def DFT_matrix(N = 4, decimal = 2):\n",
    "    \n",
    "    idx = range(N)\n",
    "    kn = np.outer(idx, idx)\n",
    "    W_N = np.exp(-1j * PI2 / N) \n",
    "    DFT_matrix = np.round(W_N ** kn, decimal)\n",
    "    \n",
    "    return DFT_matrix"
   ]
  },
  {
   "cell_type": "code",
   "execution_count": 42,
   "metadata": {},
   "outputs": [
    {
     "data": {
      "text/plain": [
       "array([[ 1.+0.j,  1.+0.j],\n",
       "       [ 1.+0.j, -1.-0.j]])"
      ]
     },
     "execution_count": 42,
     "metadata": {},
     "output_type": "execute_result"
    }
   ],
   "source": [
    "DFT_matrix(N = 2)"
   ]
  },
  {
   "cell_type": "code",
   "execution_count": 43,
   "metadata": {},
   "outputs": [
    {
     "data": {
      "text/plain": [
       "array([[ 1. +0.j  ,  1. +0.j  ,  1. +0.j  ],\n",
       "       [ 1. +0.j  , -0.5-0.87j, -0.5+0.87j],\n",
       "       [ 1. +0.j  , -0.5+0.87j, -0.5-0.87j]])"
      ]
     },
     "execution_count": 43,
     "metadata": {},
     "output_type": "execute_result"
    }
   ],
   "source": [
    "DFT_matrix(N = 3)"
   ]
  },
  {
   "cell_type": "code",
   "execution_count": 44,
   "metadata": {},
   "outputs": [
    {
     "data": {
      "text/plain": [
       "array([[ 1.+0.j,  1.+0.j,  1.+0.j,  1.+0.j],\n",
       "       [ 1.+0.j,  0.-1.j, -1.-0.j, -0.+1.j],\n",
       "       [ 1.+0.j, -1.-0.j,  1.+0.j, -1.-0.j],\n",
       "       [ 1.+0.j, -0.+1.j, -1.-0.j,  0.-1.j]])"
      ]
     },
     "execution_count": 44,
     "metadata": {},
     "output_type": "execute_result"
    }
   ],
   "source": [
    "DFT_matrix(N = 4)"
   ]
  },
  {
   "cell_type": "code",
   "execution_count": 45,
   "metadata": {},
   "outputs": [
    {
     "data": {
      "text/plain": [
       "array([[ 1.  +0.j  ,  1.  +0.j  ,  1.  +0.j  ,  1.  +0.j  ,  1.  +0.j  ],\n",
       "       [ 1.  +0.j  ,  0.31-0.95j, -0.81-0.59j, -0.81+0.59j,  0.31+0.95j],\n",
       "       [ 1.  +0.j  , -0.81-0.59j,  0.31+0.95j,  0.31-0.95j, -0.81+0.59j],\n",
       "       [ 1.  +0.j  , -0.81+0.59j,  0.31-0.95j,  0.31+0.95j, -0.81-0.59j],\n",
       "       [ 1.  +0.j  ,  0.31+0.95j, -0.81+0.59j, -0.81-0.59j,  0.31-0.95j]])"
      ]
     },
     "execution_count": 45,
     "metadata": {},
     "output_type": "execute_result"
    }
   ],
   "source": [
    "DFT_matrix(N = 5)"
   ]
  },
  {
   "cell_type": "code",
   "execution_count": 52,
   "metadata": {},
   "outputs": [
    {
     "data": {
      "text/plain": [
       "array([[ 1. +0.j  ,  1. +0.j  ,  1. +0.j  ,  1. +0.j  ,  1. +0.j  ,\n",
       "         1. +0.j  ],\n",
       "       [ 1. +0.j  ,  0.5-0.87j, -0.5-0.87j, -1. -0.j  , -0.5+0.87j,\n",
       "         0.5+0.87j],\n",
       "       [ 1. +0.j  , -0.5-0.87j, -0.5+0.87j,  1. +0.j  , -0.5-0.87j,\n",
       "        -0.5+0.87j],\n",
       "       [ 1. +0.j  , -1. -0.j  ,  1. +0.j  , -1. -0.j  ,  1. +0.j  ,\n",
       "        -1. -0.j  ],\n",
       "       [ 1. +0.j  , -0.5+0.87j, -0.5-0.87j,  1. +0.j  , -0.5+0.87j,\n",
       "        -0.5-0.87j],\n",
       "       [ 1. +0.j  ,  0.5+0.87j, -0.5+0.87j, -1. -0.j  , -0.5-0.87j,\n",
       "         0.5-0.87j]])"
      ]
     },
     "execution_count": 52,
     "metadata": {},
     "output_type": "execute_result"
    }
   ],
   "source": [
    "DFT_matrix(N = 6)"
   ]
  },
  {
   "cell_type": "code",
   "execution_count": 47,
   "metadata": {},
   "outputs": [
    {
     "data": {
      "text/plain": [
       "array([[ 1.  +0.j  ,  1.  +0.j  ,  1.  +0.j  ,  1.  +0.j  ,  1.  +0.j  ,\n",
       "         1.  +0.j  ,  1.  +0.j  ],\n",
       "       [ 1.  +0.j  ,  0.62-0.78j, -0.22-0.97j, -0.9 -0.43j, -0.9 +0.43j,\n",
       "        -0.22+0.97j,  0.62+0.78j],\n",
       "       [ 1.  +0.j  , -0.22-0.97j, -0.9 +0.43j,  0.62+0.78j,  0.62-0.78j,\n",
       "        -0.9 -0.43j, -0.22+0.97j],\n",
       "       [ 1.  +0.j  , -0.9 -0.43j,  0.62+0.78j, -0.22-0.97j, -0.22+0.97j,\n",
       "         0.62-0.78j, -0.9 +0.43j],\n",
       "       [ 1.  +0.j  , -0.9 +0.43j,  0.62-0.78j, -0.22+0.97j, -0.22-0.97j,\n",
       "         0.62+0.78j, -0.9 -0.43j],\n",
       "       [ 1.  +0.j  , -0.22+0.97j, -0.9 -0.43j,  0.62-0.78j,  0.62+0.78j,\n",
       "        -0.9 +0.43j, -0.22-0.97j],\n",
       "       [ 1.  +0.j  ,  0.62+0.78j, -0.22+0.97j, -0.9 +0.43j, -0.9 -0.43j,\n",
       "        -0.22-0.97j,  0.62-0.78j]])"
      ]
     },
     "execution_count": 47,
     "metadata": {},
     "output_type": "execute_result"
    }
   ],
   "source": [
    "DFT_matrix(N = 7)"
   ]
  },
  {
   "cell_type": "code",
   "execution_count": 48,
   "metadata": {},
   "outputs": [
    {
     "data": {
      "text/plain": [
       "array([[ 1.  +0.j  ,  1.  +0.j  ,  1.  +0.j  ,  1.  +0.j  ,  1.  +0.j  ,\n",
       "         1.  +0.j  ,  1.  +0.j  ,  1.  +0.j  ],\n",
       "       [ 1.  +0.j  ,  0.71-0.71j,  0.  -1.j  , -0.71-0.71j, -1.  -0.j  ,\n",
       "        -0.71+0.71j, -0.  +1.j  ,  0.71+0.71j],\n",
       "       [ 1.  +0.j  ,  0.  -1.j  , -1.  -0.j  , -0.  +1.j  ,  1.  +0.j  ,\n",
       "         0.  -1.j  , -1.  -0.j  , -0.  +1.j  ],\n",
       "       [ 1.  +0.j  , -0.71-0.71j, -0.  +1.j  ,  0.71-0.71j, -1.  -0.j  ,\n",
       "         0.71+0.71j,  0.  -1.j  , -0.71+0.71j],\n",
       "       [ 1.  +0.j  , -1.  -0.j  ,  1.  +0.j  , -1.  -0.j  ,  1.  +0.j  ,\n",
       "        -1.  -0.j  ,  1.  +0.j  , -1.  -0.j  ],\n",
       "       [ 1.  +0.j  , -0.71+0.71j,  0.  -1.j  ,  0.71+0.71j, -1.  -0.j  ,\n",
       "         0.71-0.71j, -0.  +1.j  , -0.71-0.71j],\n",
       "       [ 1.  +0.j  , -0.  +1.j  , -1.  -0.j  ,  0.  -1.j  ,  1.  +0.j  ,\n",
       "        -0.  +1.j  , -1.  -0.j  ,  0.  -1.j  ],\n",
       "       [ 1.  +0.j  ,  0.71+0.71j, -0.  +1.j  , -0.71+0.71j, -1.  -0.j  ,\n",
       "        -0.71-0.71j,  0.  -1.j  ,  0.71-0.71j]])"
      ]
     },
     "execution_count": 48,
     "metadata": {},
     "output_type": "execute_result"
    }
   ],
   "source": [
    "DFT_matrix(N = 8)"
   ]
  },
  {
   "cell_type": "code",
   "execution_count": null,
   "metadata": {},
   "outputs": [],
   "source": []
  }
 ],
 "metadata": {
  "kernelspec": {
   "display_name": "Python 3",
   "language": "python",
   "name": "python3"
  },
  "language_info": {
   "codemirror_mode": {
    "name": "ipython",
    "version": 3
   },
   "file_extension": ".py",
   "mimetype": "text/x-python",
   "name": "python",
   "nbconvert_exporter": "python",
   "pygments_lexer": "ipython3",
   "version": "3.6.6"
  }
 },
 "nbformat": 4,
 "nbformat_minor": 2
}
