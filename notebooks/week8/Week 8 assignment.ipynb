{
 "cells": [
  {
   "cell_type": "markdown",
   "metadata": {},
   "source": [
    "# Week 8 assignment"
   ]
  },
  {
   "cell_type": "code",
   "execution_count": 1,
   "metadata": {},
   "outputs": [
    {
     "name": "stdout",
     "output_type": "stream",
     "text": [
      "Populating the interactive namespace from numpy and matplotlib\n"
     ]
    }
   ],
   "source": [
    "%pylab inline"
   ]
  },
  {
   "cell_type": "code",
   "execution_count": 2,
   "metadata": {},
   "outputs": [],
   "source": [
    "import sympy\n",
    "from sympy import *\n",
    "init_printing(use_unicode = True, fontsize = 16)\n",
    "pi2 = pi * 2"
   ]
  },
  {
   "cell_type": "code",
   "execution_count": 3,
   "metadata": {},
   "outputs": [],
   "source": [
    "import os\n",
    "import sys \n",
    "\n",
    "if os.name == 'nt':\n",
    "    path = 'C:\\\\Users\\\\Wei\\\\Dropbox\\\\Coding\\\\notebooks\\\\專案\\\\待處理\\\\Waves\\\\bitbucket\\\\github\\\\codes'\n",
    "else:\n",
    "    path = '/home/wei/Dropbox/Coding/notebooks/專案/待處理/Waves/bitbucket/github/codes'\n",
    "    \n",
    "sys.path.append(path)\n",
    "\n",
    "from waves.sound import *\n",
    "from waves.tools.dsp import *  \n",
    "from waves.tools.dsp.sampling import * \n",
    "from waves.tools.dsp.interpolator import * "
   ]
  },
  {
   "cell_type": "code",
   "execution_count": 4,
   "metadata": {},
   "outputs": [],
   "source": [
    "from scipy import signal"
   ]
  },
  {
   "cell_type": "markdown",
   "metadata": {},
   "source": [
    "# 1. \n",
    "250000000 1250000000"
   ]
  },
  {
   "cell_type": "code",
   "execution_count": 5,
   "metadata": {},
   "outputs": [
    {
     "data": {
      "text/plain": [
       "'250000000 1250000000'"
      ]
     },
     "execution_count": 5,
     "metadata": {},
     "output_type": "execute_result"
    }
   ],
   "source": [
    "M = 5\n",
    "Fmin = 250 * 1e6\n",
    "Fmax = 500 * 1e6\n",
    "K = 4\n",
    "Fs = 1e9\n",
    "W = Fmax - Fmin\n",
    "baud_rate = int(W)\n",
    "through_put = baud_rate * M\n",
    "'{} {}'.format(baud_rate, through_put)"
   ]
  },
  {
   "cell_type": "markdown",
   "metadata": {},
   "source": [
    "# 2. \n",
    "18000"
   ]
  },
  {
   "cell_type": "code",
   "execution_count": 6,
   "metadata": {},
   "outputs": [
    {
     "data": {
      "image/png": "[encoded data removed]",
      "text/latex": [
       "$$18000$$"
      ],
      "text/plain": [
       "18000"
      ]
     },
     "execution_count": 6,
     "metadata": {},
     "output_type": "execute_result"
    }
   ],
   "source": [
    "W = 3000\n",
    "SNR_dB = 30\n",
    "Perr = 1e-6\n",
    "\n",
    "M = mapper.get_M(SNR_dB, Perr)\n",
    "bits_per_sec = int(M * W)\n",
    "bits_per_sec"
   ]
  },
  {
   "cell_type": "markdown",
   "metadata": {},
   "source": [
    "# 3. \n",
    "F \n",
    "s  =1.5 GHz, K=10K=10  \n",
    "Fs =2.4 GHz, K=12 "
   ]
  },
  {
   "cell_type": "code",
   "execution_count": 7,
   "metadata": {},
   "outputs": [],
   "source": [
    "Fmin = 400 * 1e6\n",
    "Fmax = 600 * 1e6\n",
    "W = bandwidth = Fmax - Fmin "
   ]
  },
  {
   "cell_type": "code",
   "execution_count": 8,
   "metadata": {},
   "outputs": [
    {
     "data": {
      "image/png": "[encoded data removed]",
      "text/latex": [
       "$$\\left ( 200000000.0, \\quad 6, \\quad 1200000000.0\\right )$$"
      ],
      "text/plain": [
       "(200000000.0, 6, 1200000000.0)"
      ]
     },
     "execution_count": 8,
     "metadata": {},
     "output_type": "execute_result"
    }
   ],
   "source": [
    "K = int(np.ceil(2 * Fmax / W))\n",
    "Fs = W * K\n",
    "\n",
    "W, K, Fs"
   ]
  },
  {
   "cell_type": "code",
   "execution_count": 9,
   "metadata": {},
   "outputs": [],
   "source": [
    "def sufficient(Fs, K):\n",
    "    return Fs / K <= W and Fs >= 2 * Fmax"
   ]
  },
  {
   "cell_type": "code",
   "execution_count": 10,
   "metadata": {},
   "outputs": [
    {
     "data": {
      "text/plain": [
       "True"
      ]
     },
     "execution_count": 10,
     "metadata": {},
     "output_type": "execute_result"
    }
   ],
   "source": [
    "sufficient(1.5e9, 10)"
   ]
  },
  {
   "cell_type": "code",
   "execution_count": 11,
   "metadata": {},
   "outputs": [
    {
     "data": {
      "text/plain": [
       "True"
      ]
     },
     "execution_count": 11,
     "metadata": {},
     "output_type": "execute_result"
    }
   ],
   "source": [
    "sufficient(2.4e9, 12)"
   ]
  },
  {
   "cell_type": "code",
   "execution_count": 12,
   "metadata": {},
   "outputs": [
    {
     "data": {
      "text/plain": [
       "False"
      ]
     },
     "execution_count": 12,
     "metadata": {},
     "output_type": "execute_result"
    }
   ],
   "source": [
    "sufficient(1.5e9, 5)"
   ]
  },
  {
   "cell_type": "code",
   "execution_count": 13,
   "metadata": {},
   "outputs": [
    {
     "data": {
      "text/plain": [
       "False"
      ]
     },
     "execution_count": 13,
     "metadata": {},
     "output_type": "execute_result"
    }
   ],
   "source": [
    "sufficient(1.9e9, 9)"
   ]
  },
  {
   "cell_type": "code",
   "execution_count": 14,
   "metadata": {},
   "outputs": [
    {
     "data": {
      "text/plain": [
       "False"
      ]
     },
     "execution_count": 14,
     "metadata": {},
     "output_type": "execute_result"
    }
   ],
   "source": [
    "sufficient(1.e9, 5)"
   ]
  },
  {
   "cell_type": "markdown",
   "metadata": {},
   "source": [
    "# 4. \n",
    "4 2 1 3"
   ]
  },
  {
   "cell_type": "code",
   "execution_count": 15,
   "metadata": {},
   "outputs": [
    {
     "data": {
      "image/png": "[encoded data removed]",
      "text/plain": [
       "<Figure size 432x288 with 1 Axes>"
      ]
     },
     "metadata": {
      "needs_background": "light"
     },
     "output_type": "display_data"
    },
    {
     "name": "stderr",
     "output_type": "stream",
     "text": [
      "/home/wei/Dropbox/Coding/notebooks/專案/待處理/Waves/bitbucket/github/codes/waves/tools/dsp/__init__.py:383: RuntimeWarning: divide by zero encountered in true_divide\n",
      "  (period - 2 * beta * t) * (period + 2 * beta * t))\n"
     ]
    },
    {
     "data": {
      "image/png": "[encoded data removed]",
      "text/plain": [
       "<Figure size 432x288 with 1 Axes>"
      ]
     },
     "metadata": {
      "needs_background": "light"
     },
     "output_type": "display_data"
    },
    {
     "data": {
      "image/png": "[encoded data removed]",
      "text/plain": [
       "<Figure size 432x288 with 1 Axes>"
      ]
     },
     "metadata": {
      "needs_background": "light"
     },
     "output_type": "display_data"
    },
    {
     "data": {
      "image/png": "[encoded data removed]",
      "text/plain": [
       "<Figure size 432x288 with 1 Axes>"
      ]
     },
     "metadata": {
      "needs_background": "light"
     },
     "output_type": "display_data"
    }
   ],
   "source": [
    "for b in np.linspace(0, 0.75, 4):\n",
    "    plt.stem(filtering.raised_cosine_fir(fir_size=13, beta = b), label = 'beta: {}'.format(b))\n",
    "    plt.legend()\n",
    "    plt.show()"
   ]
  },
  {
   "cell_type": "markdown",
   "metadata": {},
   "source": [
    "# 5. \n",
    "103.50"
   ]
  },
  {
   "cell_type": "markdown",
   "metadata": {},
   "source": [
    "$$\n",
    "\\begin{align}\n",
    "\\sigma_{signal}^2 &= G^2  \\\\\n",
    "\\sigma_{signal} &= G  \\\\\n",
    "\\sigma_{noise}^2 &= \\frac{(b-a)^2 }{ 12}  \\\\\n",
    "\\sigma_{noise}  &= \\frac{(b-a)  }{ \\sqrt{12}}  \\\\\n",
    "SNR &=  \\frac{\\sigma_{signal}^2 }{ \\sigma_{noise}^2 }  \\\\\n",
    "\\sqrt{SNR}) &= \\frac{\\sigma_{signal} }{ \\sigma_{noise} }  \\\\\n",
    "&= \\frac{\\sqrt{12}\\sigma_{signal} }{(b-a) }  \\\\\n",
    "P_{err} &= erfc(\\sqrt{SNR})  \\\\\n",
    "&= erfc(\\frac{\\sqrt{12}\\sigma_{signal} }{(b-a) })  \\\\\n",
    "&= erfc(\\frac{\\sqrt{12}G }{(b-a) })  \\\\\n",
    "\\\\ \n",
    "SNR &=  \\frac{32\\sigma_{signal}^2 }{31 \\sigma_{noise}^2 }  \\\\\n",
    "\\sqrt{SNR}) &= \\frac{\\sigma_{signal} }{ \\sigma_{noise} } \\sqrt{\\frac{32}{31}} \\\\\n",
    "&= \\frac{\\sqrt{12}\\sigma_{signal} }{(b-a) }  \\sqrt{\\frac{32}{31}} \\\\\n",
    "P_{err} &= erfc(\\sqrt{SNR})  \\\\\n",
    "&= erfc(\\frac{\\sqrt{12}\\sigma_{signal} }{(b-a) } \\sqrt{\\frac{32}{31}})  \\\\\n",
    "&= erfc(\\frac{\\sqrt{12}G }{(b-a) } \\sqrt{\\frac{32}{31}})  \\\\\n",
    "\\end{align}\n",
    "$$"
   ]
  },
  {
   "cell_type": "code",
   "execution_count": 16,
   "metadata": {},
   "outputs": [
    {
     "data": {
      "text/plain": [
       "array([-31, -29, -27, -25, -23, -21, -19, -17, -15, -13, -11,  -9,  -7,\n",
       "        -5,  -3,  -1,   1,   3,   5,   7,   9,  11,  13,  15,  17,  19,\n",
       "        21,  23,  25,  27,  29,  31])"
      ]
     },
     "execution_count": 16,
     "metadata": {},
     "output_type": "execute_result"
    }
   ],
   "source": [
    "n = np.arange(-31, 32, 2)\n",
    "n"
   ]
  },
  {
   "cell_type": "code",
   "execution_count": 17,
   "metadata": {},
   "outputs": [
    {
     "data": {
      "image/png": "[encoded data removed]",
      "text/latex": [
       "$$32$$"
      ],
      "text/plain": [
       "32"
      ]
     },
     "execution_count": 17,
     "metadata": {},
     "output_type": "execute_result"
    }
   ],
   "source": [
    "len(n)"
   ]
  },
  {
   "cell_type": "code",
   "execution_count": 18,
   "metadata": {},
   "outputs": [
    {
     "name": "stdout",
     "output_type": "stream",
     "text": [
      "Solutions:  [103.50165926 103.50165926]\n",
      "Minimum gain: 103.50\n"
     ]
    }
   ],
   "source": [
    "from scipy import special\n",
    "from scipy import optimize\n",
    "\n",
    "M = 5\n",
    "noise_range = 100 - (-100)\n",
    "sigma_noise = noise_range / np.sqrt(12)\n",
    "\n",
    "Perr_max = 1e-2 \n",
    "\n",
    "def get_Perr(gain): \n",
    "    return special.erfc(np.sqrt(12) * gain / noise_range * np.sqrt(32/31)) - Perr_max\n",
    "\n",
    "sol = optimize.root(get_Perr, [100, 150])\n",
    "gain_min = sol.x[0]\n",
    "print('Solutions: ', sol.x)\n",
    "print('Minimum gain: {:0.2f}'.format(gain_min))"
   ]
  },
  {
   "cell_type": "code",
   "execution_count": 19,
   "metadata": {},
   "outputs": [
    {
     "data": {
      "image/png": "[encoded data removed]",
      "text/plain": [
       "<Figure size 432x288 with 1 Axes>"
      ]
     },
     "metadata": {
      "needs_background": "light"
     },
     "output_type": "display_data"
    }
   ],
   "source": [
    "G = np.linspace(gain_min*0.8, gain_min*1.2, 100)\n",
    "p = get_Perr(G)  + Perr_max\n",
    "\n",
    "plt.plot(G, p)\n",
    "plt.axhline(Perr_max, color = 'grey', ls = '--' )\n",
    "plt.axvline(gain_min, color = 'grey', ls = '--' )\n",
    "plt.show()"
   ]
  },
  {
   "cell_type": "markdown",
   "metadata": {},
   "source": [
    "# 6. \n",
    "12 Mbit/s\n",
    "\n",
    "\n",
    "6.5 Mbit/s\n",
    "\n",
    "\n",
    "36 Mbit/s"
   ]
  },
  {
   "cell_type": "code",
   "execution_count": 20,
   "metadata": {},
   "outputs": [
    {
     "data": {
      "image/png": "[encoded data removed]",
      "text/latex": [
       "$$39.949268896510766$$"
      ],
      "text/plain": [
       "39.949268896510766"
      ]
     },
     "execution_count": 20,
     "metadata": {},
     "output_type": "execute_result"
    }
   ],
   "source": [
    "W = bandwidth = 6e6\n",
    "SNR_dB = 20\n",
    "\n",
    "c = dsp.channel_capacity(W, SNR_dB)\n",
    "c / 1e6"
   ]
  },
  {
   "cell_type": "markdown",
   "metadata": {},
   "source": [
    "# 7. \n",
    "Decrease the bit rate  \n",
    "Decrease the constellation size MM"
   ]
  },
  {
   "cell_type": "markdown",
   "metadata": {},
   "source": [
    "# 8. \n",
    "1+cos, 1+sin\n",
    "\n",
    "cos cos, sin cos\n",
    "\n",
    "cos, sin"
   ]
  },
  {
   "cell_type": "code",
   "execution_count": 21,
   "metadata": {},
   "outputs": [],
   "source": [
    "n = symbols('n', integer = True)\n",
    "w = symbols('w', real = True)\n",
    "s = cos(w*n) - I*sin(w*n)\n",
    "\n",
    "def demodulate(m):\n",
    "    s1 = s*m\n",
    "    s1 = s1.rewrite(E)\n",
    "    return trigsimp(trigsimp(s1) )\n",
    "#     return s1"
   ]
  },
  {
   "cell_type": "code",
   "execution_count": 22,
   "metadata": {},
   "outputs": [
    {
     "data": {
      "image/png": "[encoded data removed]",
      "text/latex": [
       "$$\\left(- i \\sin{\\left (n w \\right )} + \\cos{\\left (n w \\right )}\\right) \\left(\\cos{\\left (n w \\right )} + 1\\right)$$"
      ],
      "text/plain": [
       "(-ⅈ⋅sin(n⋅w) + cos(n⋅w))⋅(cos(n⋅w) + 1)"
      ]
     },
     "execution_count": 22,
     "metadata": {},
     "output_type": "execute_result"
    }
   ],
   "source": [
    "m = 1+ cos(w*n)\n",
    "demodulate(m)"
   ]
  },
  {
   "cell_type": "code",
   "execution_count": 23,
   "metadata": {},
   "outputs": [
    {
     "data": {
      "image/png": "[encoded data removed]",
      "text/latex": [
       "$$- \\frac{i \\sin{\\left (2 n w \\right )}}{2} + \\frac{\\cos{\\left (2 n w \\right )}}{2} + \\frac{1}{2}$$"
      ],
      "text/plain": [
       "  ⅈ⋅sin(2⋅n⋅w)   cos(2⋅n⋅w)   1\n",
       "- ──────────── + ────────── + ─\n",
       "       2             2        2"
      ]
     },
     "execution_count": 23,
     "metadata": {},
     "output_type": "execute_result"
    }
   ],
   "source": [
    "m = cos(w*n)\n",
    "demodulate(m)"
   ]
  },
  {
   "cell_type": "code",
   "execution_count": 24,
   "metadata": {},
   "outputs": [
    {
     "data": {
      "image/png": "[encoded data removed]",
      "text/latex": [
       "$$\\left(- i \\sin{\\left (n w \\right )} + \\cos{\\left (n w \\right )}\\right) \\cos{\\left (\\frac{n w}{2} \\right )} \\cos{\\left (\\frac{3 n w}{2} \\right )}$$"
      ],
      "text/plain": [
       "                            ⎛n⋅w⎞    ⎛3⋅n⋅w⎞\n",
       "(-ⅈ⋅sin(n⋅w) + cos(n⋅w))⋅cos⎜───⎟⋅cos⎜─────⎟\n",
       "                            ⎝ 2 ⎠    ⎝  2  ⎠"
      ]
     },
     "execution_count": 24,
     "metadata": {},
     "output_type": "execute_result"
    }
   ],
   "source": [
    "m = cos(w*n/2)*cos(3*w*n/2)\n",
    "demodulate(m)"
   ]
  },
  {
   "cell_type": "code",
   "execution_count": 25,
   "metadata": {},
   "outputs": [
    {
     "data": {
      "image/png": "[encoded data removed]",
      "text/latex": [
       "$$\\left(- i \\sin{\\left (n w \\right )} + \\cos{\\left (n w \\right )}\\right) \\sin{\\left (\\frac{n w}{2} \\right )} \\sin{\\left (\\frac{3 n w}{2} \\right )}$$"
      ],
      "text/plain": [
       "                            ⎛n⋅w⎞    ⎛3⋅n⋅w⎞\n",
       "(-ⅈ⋅sin(n⋅w) + cos(n⋅w))⋅sin⎜───⎟⋅sin⎜─────⎟\n",
       "                            ⎝ 2 ⎠    ⎝  2  ⎠"
      ]
     },
     "execution_count": 25,
     "metadata": {},
     "output_type": "execute_result"
    }
   ],
   "source": [
    "m = sin(w*n/2)*sin(3*w*n/2)\n",
    "demodulate(m)"
   ]
  },
  {
   "cell_type": "code",
   "execution_count": 26,
   "metadata": {},
   "outputs": [
    {
     "data": {
      "image/png": "[encoded data removed]",
      "text/latex": [
       "$$\\left(- i \\sin{\\left (n w \\right )} + \\cos{\\left (n w \\right )}\\right) \\sin{\\left (\\frac{n w}{2} \\right )} \\cos{\\left (\\frac{3 n w}{2} \\right )}$$"
      ],
      "text/plain": [
       "                            ⎛n⋅w⎞    ⎛3⋅n⋅w⎞\n",
       "(-ⅈ⋅sin(n⋅w) + cos(n⋅w))⋅sin⎜───⎟⋅cos⎜─────⎟\n",
       "                            ⎝ 2 ⎠    ⎝  2  ⎠"
      ]
     },
     "execution_count": 26,
     "metadata": {},
     "output_type": "execute_result"
    }
   ],
   "source": [
    "m = sin(w*n/2)*cos(3*w*n/2)\n",
    "demodulate(m)"
   ]
  },
  {
   "cell_type": "code",
   "execution_count": 27,
   "metadata": {},
   "outputs": [
    {
     "data": {
      "image/png": "[encoded data removed]",
      "text/latex": [
       "$$\\left(- i \\sin{\\left (n w \\right )} + \\cos{\\left (n w \\right )}\\right) \\sin{\\left (\\frac{3 n w}{2} \\right )} \\cos{\\left (\\frac{n w}{2} \\right )}$$"
      ],
      "text/plain": [
       "                            ⎛3⋅n⋅w⎞    ⎛n⋅w⎞\n",
       "(-ⅈ⋅sin(n⋅w) + cos(n⋅w))⋅sin⎜─────⎟⋅cos⎜───⎟\n",
       "                            ⎝  2  ⎠    ⎝ 2 ⎠"
      ]
     },
     "execution_count": 27,
     "metadata": {},
     "output_type": "execute_result"
    }
   ],
   "source": [
    "m = cos(w*n/2)*sin(3*w*n/2)\n",
    "demodulate(m)"
   ]
  },
  {
   "cell_type": "code",
   "execution_count": 28,
   "metadata": {},
   "outputs": [
    {
     "data": {
      "image/png": "[encoded data removed]",
      "text/latex": [
       "$$\\left(- i \\sin{\\left (n w \\right )} + \\cos{\\left (n w \\right )}\\right) \\cos{\\left (\\frac{n w}{2} \\right )} \\cos{\\left (\\frac{3 n w}{2} \\right )}$$"
      ],
      "text/plain": [
       "                            ⎛n⋅w⎞    ⎛3⋅n⋅w⎞\n",
       "(-ⅈ⋅sin(n⋅w) + cos(n⋅w))⋅cos⎜───⎟⋅cos⎜─────⎟\n",
       "                            ⎝ 2 ⎠    ⎝  2  ⎠"
      ]
     },
     "execution_count": 28,
     "metadata": {},
     "output_type": "execute_result"
    }
   ],
   "source": [
    "m = cos(w*n/2)*cos(3*w*n/2)\n",
    "demodulate(m)"
   ]
  },
  {
   "cell_type": "markdown",
   "metadata": {},
   "source": [
    "# 9. \n",
    "1 2 5"
   ]
  },
  {
   "cell_type": "markdown",
   "metadata": {},
   "source": [
    "# 10.\n",
    "-2"
   ]
  },
  {
   "cell_type": "code",
   "execution_count": 29,
   "metadata": {},
   "outputs": [
    {
     "data": {
      "image/png": "[encoded data removed]",
      "text/plain": [
       "<Figure size 432x288 with 1 Axes>"
      ]
     },
     "metadata": {
      "needs_background": "light"
     },
     "output_type": "display_data"
    }
   ],
   "source": [
    "s = np.array([-4, 4, -2, -3, 3])\n",
    "N = [-2, -1, 0, 1, 2]\n",
    "\n",
    "li = Lagrange()\n",
    "poly = li.poly_fit(s, N, plot = True);"
   ]
  },
  {
   "cell_type": "code",
   "execution_count": 30,
   "metadata": {},
   "outputs": [
    {
     "data": {
      "text/plain": [
       "array([-2.])"
      ]
     },
     "execution_count": 30,
     "metadata": {},
     "output_type": "execute_result"
    }
   ],
   "source": [
    "tau2 = 0\n",
    "_, v = poly(tau2)\n",
    "v"
   ]
  },
  {
   "cell_type": "code",
   "execution_count": 31,
   "metadata": {},
   "outputs": [
    {
     "data": {
      "image/png": "[encoded data removed]",
      "text/latex": [
       "$$-2.25$$"
      ],
      "text/plain": [
       "-2.25"
      ]
     },
     "execution_count": 31,
     "metadata": {},
     "output_type": "execute_result"
    }
   ],
   "source": [
    "# test at second time\n",
    "\n",
    "N = 1\n",
    "tau = 1/4\n",
    "y = -2 + 1/4 * (-3-(-2))\n",
    "y"
   ]
  },
  {
   "cell_type": "markdown",
   "metadata": {},
   "source": [
    "# 11. \n",
    "2 3"
   ]
  },
  {
   "cell_type": "code",
   "execution_count": 32,
   "metadata": {},
   "outputs": [
    {
     "data": {
      "text/plain": [
       "array([0.        , 0.39269908, 0.78539816, 1.17809725, 1.57079633,\n",
       "       1.96349541, 2.35619449, 2.74889357])"
      ]
     },
     "execution_count": 32,
     "metadata": {},
     "output_type": "execute_result"
    }
   ],
   "source": [
    "N = 8\n",
    "k = np.arange(N)\n",
    "w_k = k * np.pi / N \n",
    "w_k"
   ]
  },
  {
   "cell_type": "code",
   "execution_count": 33,
   "metadata": {},
   "outputs": [
    {
     "name": "stdout",
     "output_type": "stream",
     "text": [
      "[0 6 0 4 2 3 0 1]\n"
     ]
    },
    {
     "data": {
      "text/plain": [
       "array([0, 2, 6, 7, 4, 5, 3, 1])"
      ]
     },
     "execution_count": 33,
     "metadata": {},
     "output_type": "execute_result"
    }
   ],
   "source": [
    "Fs = 2e6\n",
    "F_nyquist = Fs/2\n",
    "W_subchannel = F_nyquist / 8 \n",
    "w_center = k * W_subchannel\n",
    "Perr_max = 1e-6\n",
    "SNRs_dB = np.array([0, 28, 4, 24, 16, 20, 8, 12])\n",
    "Ms = mapper.get_M(SNRs_dB, Perr_max)\n",
    "print(Ms)\n",
    "\n",
    "throughput = Ms * W_subchannel\n",
    "np.argsort(throughput)"
   ]
  },
  {
   "cell_type": "code",
   "execution_count": 34,
   "metadata": {},
   "outputs": [
    {
     "data": {
      "text/plain": [
       "array([     0., 750000.,      0., 500000., 250000., 375000.,      0.,\n",
       "       125000.])"
      ]
     },
     "execution_count": 34,
     "metadata": {},
     "output_type": "execute_result"
    }
   ],
   "source": [
    "throughput"
   ]
  },
  {
   "cell_type": "markdown",
   "metadata": {},
   "source": [
    "# 12. \n",
    "500000 750000 1250000"
   ]
  },
  {
   "cell_type": "code",
   "execution_count": 35,
   "metadata": {},
   "outputs": [
    {
     "name": "stdout",
     "output_type": "stream",
     "text": [
      "[ 0 10  0  4  6  0  6 10]\n"
     ]
    },
    {
     "data": {
      "text/plain": [
       "'500000 750000 1250000'"
      ]
     },
     "execution_count": 35,
     "metadata": {},
     "output_type": "execute_result"
    }
   ],
   "source": [
    "Fs = 2e6\n",
    "F_nyquist = Fs/2\n",
    "W_subchannel = F_nyquist / 8 \n",
    "# w_center = k * W_subchannel\n",
    "\n",
    "SNRs_dB = np.array([0, 40, 8, 24, 32, 8, 30, 42])\n",
    "Perr_max = 1e-6\n",
    "Ms = mapper.get_M(SNRs_dB, Perr_max)\n",
    "Ms[4] = 6  # subchannel 4 should have M as 6 instead of 7\n",
    "print(Ms)\n",
    "\n",
    "throughput = Ms * W_subchannel\n",
    "'{:.0f} {:.0f} {:.0f}'.format(throughput[3], throughput[4], throughput[7])"
   ]
  }
 ],
 "metadata": {
  "kernelspec": {
   "display_name": "Python 3",
   "language": "python",
   "name": "python3"
  },
  "language_info": {
   "codemirror_mode": {
    "name": "ipython",
    "version": 3
   },
   "file_extension": ".py",
   "mimetype": "text/x-python",
   "name": "python",
   "nbconvert_exporter": "python",
   "pygments_lexer": "ipython3",
   "version": "3.6.6"
  }
 },
 "nbformat": 4,
 "nbformat_minor": 2
}
