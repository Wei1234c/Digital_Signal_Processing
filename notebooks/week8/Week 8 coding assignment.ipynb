{
 "cells": [
  {
   "cell_type": "markdown",
   "metadata": {},
   "source": [
    "# Week 8 coding assignment"
   ]
  },
  {
   "cell_type": "code",
   "execution_count": 9,
   "metadata": {},
   "outputs": [
    {
     "name": "stdout",
     "output_type": "stream",
     "text": [
      "Populating the interactive namespace from numpy and matplotlib\n"
     ]
    }
   ],
   "source": [
    "%pylab inline\n",
    "\n",
    "from sympy import *\n",
    "init_printing(use_unicode = True, fontsize = 16)\n",
    "\n",
    "pi2 = pi * 2"
   ]
  },
  {
   "cell_type": "code",
   "execution_count": 10,
   "metadata": {},
   "outputs": [],
   "source": [
    "import os\n",
    "import sys \n",
    "\n",
    "if os.name == 'nt':\n",
    "    path = ['C:\\\\Users\\\\Wei\\\\Dropbox\\\\Coding\\\\notebooks\\\\專案\\\\待處理\\\\Waves\\\\bitbucket\\\\github\\\\codes',\n",
    "            'C:\\\\Users\\\\Wei\\\\Dropbox\\\\Coding\\\\notebooks\\\\工具與技術\\\\DSP\\\\github\\\\codes\\\\MP3_player']    \n",
    "    data_path = 'C:\\\\Users\\\\Wei\\\\Dropbox\\\\Coding\\\\notebooks\\\\工具與技術\\\\DSP\\\\github\\\\codes\\\\MP3_player'\n",
    "else:\n",
    "    path = ['/home/wei/Dropbox/Coding/notebooks/專案/待處理/Waves/bitbucket/github/codes',\n",
    "            '/home/wei/Dropbox/Coding/notebooks/工具與技術/DSP/github/codes/MP3_player']\n",
    "    data_path = '/home/wei/Dropbox/Coding/notebooks/工具與技術/DSP/github/codes/MP3_player'\n",
    "    \n",
    "sys.path.extend(path) \n",
    "\n",
    "from waves.sound import *\n",
    "from waves.tools.dsp import *"
   ]
  },
  {
   "cell_type": "code",
   "execution_count": 17,
   "metadata": {},
   "outputs": [],
   "source": [
    "from scipy.io import wavfile"
   ]
  }
 ],
 "metadata": {
  "kernelspec": {
   "display_name": "Python 3",
   "language": "python",
   "name": "python3"
  },
  "language_info": {
   "codemirror_mode": {
    "name": "ipython",
    "version": 3
   },
   "file_extension": ".py",
   "mimetype": "text/x-python",
   "name": "python",
   "nbconvert_exporter": "python",
   "pygments_lexer": "ipython3",
   "version": "3.6.6"
  }
 },
 "nbformat": 4,
 "nbformat_minor": 2
}
