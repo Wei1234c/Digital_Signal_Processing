{
 "cells": [
  {
   "cell_type": "markdown",
   "metadata": {},
   "source": [
    "Safecast : Band-limited interpolation of radiation measurements in Fukushima\n",
    "============================================================================\n",
    "\n",
    "Summary\n",
    "-------\n",
    "\n",
    "In this notebook, we'll use radiation data from around the Fukushima Dai-ichi power plant in Japan to demonstrate some basic band-limited interpolation techniques.\n",
    "\n",
    "__Disclaimer__: This notebook is fairly heavy to run in terms of memory usage. A machine with at least 8GB of RAM is recommended.\n",
    "\n",
    "History\n",
    "-------\n",
    "\n",
    "When a tsunami hit the coast of Japan on March 11 2011, in addition to the terrible devastation brought in by the tidal wave, another disaster unfolded, the infamous nuclear disaster of the Fukushima Dai-ichi nuclear power station. Under the assault of waves over 14 meters, three nuclear reactors underwent meltdown, explosions, and are to this day not yet under control.\n",
    "\n",
    "![Explosion](http://i.telegraph.co.uk/multimedia/archive/01847/smoke_1847738c.jpg)\n",
    "\n",
    "A consequence of the accident was the release of important quantities of radioactive material into the environment. In spite of the potential danger faced by the population, virtually no information concerning the levels of radioactive contamination was released by either the power utility company or the governement of Japan. It was quickly clear that the reason was not only the reluctance of official bodies to release the information, but that for the most part the information did not exist in the first place.\n",
    "\n",
    "Facing this situation, [Safecast](http://blog.safecast.org/), an international group of concerned citizens, quickly formed after the disaster. To remediate to the lack of the data, the group decided to build sensor themselves and lend them to volunteers that could in turn take the measurements and share them back with the community through a common database.\n",
    "\n",
    "<img src='http://i.imgur.com/wfa34yD.jpg' width=500>\n",
    "\n",
    "To streamline the collection of data, a new type of mobile sensor was developped with the help of [Tokyo Hackerspace](http://tokyohackerspace.org/), the bGeigie. The bGeigie includes an Arduino for the brains, a GPS, an SD card, and a Geiger tube (with high voltage). The dose rate is measurement using the Geigier counter, tagged with time and GPS coordinates and recorded to the SD card. The device straps to the outside of a car (or bike, or backpack, etc) and automatically takes a measurement every five seconds. This allows for extremely efficient collection of measurements.\n",
    "\n",
    "<img src='http://i.imgur.com/EeRcK0K.jpg' width=400>  <img src='http://i.imgur.com/FLNtxDZ.jpg' width=200>\n",
    "\n",
    "This strategy allowed to gather data at a very high rate and today most of Japan, as well as some other areas around the world have been covered. The whole dataset can be [downloaded](https://api.safecast.org/system/measurements.csv) or visualized on [maps](http://safecast.org/tilemap). More than 19 million individual measurements have been collected so far.\n",
    "\n",
    "<a href='http://safecast.org/tilemap'>\n",
    "<img src='https://i.imgur.com/uTvHT0h.png' width=800>\n",
    "</a>"
   ]
  },
  {
   "cell_type": "markdown",
   "metadata": {},
   "source": [
    "Band-limited interpolation\n",
    "--------------------------\n",
    "\n",
    "Interpolation deals with the reconstruction of a continuous field from a set of discrete measurements. ***Band-limited*** refers to the case where we make the extra assumption that the field we wish to reconstruct ***does not have any high-frequency***. \n",
    "\n",
    "As one might expect, this requirement can be expressed in the language of Fourier analysis. But first, let's make the extra two following assumptions.\n",
    "\n",
    "1. We are only interested in a finite interval $[x_1,x_2]$.\n",
    "2. The function is periodic with period $T = x_2 - x_1$.\n",
    "\n",
    "Then, the Fourier transform of the function will be zero everywhere, except at integer locations (this can be understood by constructing the function as the convolution of a pulse train with the windowed interval, and then applying the convolution theorem). Thus, we only need to compute the Fourier transform at integer frequencies. (This is in fact a [Fourier series](https://en.wikipedia.org/wiki/Fourier_series) and is the original work by [Joseph Fourier](https://en.wikipedia.org/wiki/Jean-Baptiste_Joseph_Fourier), but we will not go into details here.)\n",
    "\n",
    "Adding the band-limitdness assumption to this, we can write the Fourier expansion of the function as a finite sum\n",
    "$$\n",
    "f(x) = \\sum_{k=-M}^M c_k e^{j2\\pi \\frac{k x}{T}}, \\quad t\\in \\mathbb{R}.\n",
    "$$\n",
    "\n",
    "In this notebook, we will first study interpolation of 1D signals to understand the technique. Then we will apply the same technique to the 2D radiation field using the Safecast dataset."
   ]
  },
  {
   "cell_type": "markdown",
   "metadata": {},
   "source": [
    "Band-limited interpolation of 1D signals\n",
    "----------------------------------------\n",
    "\n",
    "Let's assume we have a number of measurements from a 1D field.\n",
    "\n",
    "$$\n",
    "\\{(x_i,z_i)\\}_{i=0}^{N-1}\n",
    "$$\n",
    "\n",
    "such that $z_i = f(x_i)$ and $f(x)$ is a bandlimited function as described above. This means that the following equations are satisfied.\n",
    "\n",
    "$$\n",
    "z_i = \\sum_{k=-M}^M c_k\\, e^{j2\\pi\\frac{k x_i}{T}},\\ i=0,\\ldots,N-1.\n",
    "$$\n",
    "\n",
    "This equation can be rewritten in matrix form as\n",
    "\n",
    "$$\n",
    "F\\mathbf{c} = \\mathbf{z},\n",
    "$$\n",
    "\n",
    "where $\\{F\\}_{ik} = e^{j2\\pi\\frac{x_i k}{T}}$, $\\mathbf{c}=[c_{-M},\\ldots,c_{M}]^T$ is a vector containing the Fourier coefficients, and $\\mathbf{z}=[z_0,\\ldots,z_{N-1}]^T$ are the measurements.\n",
    "\n",
    "Note that we keep $i$ from $0$ to $N-1$, and $k$ from $-M$ to $M$, as in the initial sum. In the matrix notation, this simply means that the upper left entry of the matrix is $F_{0,-M}$.\n",
    "\n",
    "Assuming that $N \\geq 2M+1$, this system can be solved in the least-square sense to give an approximation of the Fourier coefficients\n",
    "\n",
    "$$\n",
    "\\hat{\\mathbf{c}} = (F^TF)^{-1}F^Tz.\n",
    "$$\n",
    "\n",
    "Given the estimated Fourier coefficients, it is now possible to estimate the field on different set of points, e.g. a regular grid. Let $\\tilde{x}_i = i\\frac{T}{L}$, the regularly spaced grid. Then the function at these points is\n",
    "\n",
    "$$\n",
    "\\tilde{\\mathbf{z}} = \\tilde{F}\\hat{c},\n",
    "$$\n",
    "\n",
    "where $\\{\\tilde{F}\\}_{ik} = e^{j2\\pi\\frac{\\tilde{x}_i k}{T}}$.\n",
    "\n",
    "Let's now put this in practice."
   ]
  },
  {
   "cell_type": "code",
   "execution_count": 1,
   "metadata": {},
   "outputs": [
    {
     "name": "stdout",
     "output_type": "stream",
     "text": [
      "Populating the interactive namespace from numpy and matplotlib\n"
     ]
    }
   ],
   "source": [
    "# import pylab and make figure size something nice for display\n",
    "%pylab inline\n",
    "figsize(8,6)"
   ]
  },
  {
   "cell_type": "markdown",
   "metadata": {},
   "source": [
    "We start by defining a function that will take care of the interpolation as described above. It takes as arguments the measurements, the interval, the maximum order of the Fourier coefficients, and optionally a grid step size (and a conditional argument to use a window function, but more about this later)."
   ]
  },
  {
   "cell_type": "code",
   "execution_count": 2,
   "metadata": {},
   "outputs": [],
   "source": [
    "def BL_interp_1D(x, z, T, order, grid_step=0.01, win=True):\n",
    "    \"\"\"\n",
    "    Band-limited interpolation of 1D functions\n",
    "    \"\"\"\n",
    "    \n",
    "    # Create Fourier order vector\n",
    "    k = expand_dims(arange(-order, order+1), 0)\n",
    "    \n",
    "    # construct the Fourier matrix\n",
    "    F = exp(2j*pi*x*k /(T[1]-T[0]))\n",
    "    \n",
    "    # Least-square projection (alternatively numpy.linalg.lstsq can be used)\n",
    "    C = dot(dot(linalg.inv(dot(F.T,F)), F.T), z)  # Fourier coefficeints\n",
    "    \n",
    "    # create new evenly spaced grid\n",
    "    xg = expand_dims(arange(T[0], T[1], grid_step), 1)\n",
    "    \n",
    "    # window the Fourier coefficients if requested\n",
    "    if (win):\n",
    "        C *= expand_dims(hanning(2*order+1), 1)\n",
    "    \n",
    "    F1 = exp(2j*pi*xg*k/(T[1]-T[0]))\n",
    "    zg = dot(F1, C)  #  Fourier coefficeints C 不變的情況下，代表 f(x) 不變，可以求出不同 x座標處的 z值\n",
    "        \n",
    "    return zg, xg, C, k"
   ]
  },
  {
   "cell_type": "markdown",
   "metadata": {},
   "source": [
    "Now, we will take randomly spaced samples from a the band-limited function $f_{BL}(x) = 2\\sin(2\\pi x) - 4\\cos(2\\pi 4 x)$, and try to interpolate the function on a new grid."
   ]
  },
  {
   "cell_type": "code",
   "execution_count": 3,
   "metadata": {},
   "outputs": [
    {
     "data": {
      "image/png": "[encoded data removed]",
      "text/plain": [
       "<Figure size 432x288 with 2 Axes>"
      ]
     },
     "metadata": {
      "needs_background": "light"
     },
     "output_type": "display_data"
    }
   ],
   "source": [
    "# define the f_BL as a function for convenience\n",
    "def f_BL(x):\n",
    "    return 2*np.sin(2*pi*1*x) - 4*np.cos(2*pi*4*x)\n",
    "\n",
    "# Take a random set of measurements on [0,2\\pi]\n",
    "T = [0, 1]\n",
    "order = 6\n",
    "\n",
    "samples_size = 20\n",
    "\n",
    "x = (T[1]-T[0])*random.random((samples_size,1))+T[0]\n",
    "z = f_BL(x)\n",
    "\n",
    "zp1, xp1, C1, k1 = BL_interp_1D(x, z, T, order, win=False)  # mapping\n",
    "\n",
    "subplot(2,1,1)\n",
    "plot(xp1, real(zp1), 'r-', xp1, f_BL(xp1), 'k--', x, z, 'o')\n",
    "title('Time Domain')\n",
    "legend(('Interpolated', 'Original','Measurements'))\n",
    "\n",
    "subplot(2,1,2)\n",
    "stem(k1.T, abs(C1))\n",
    "title('Fourier coefficients magnitude')\n",
    "tight_layout()\n",
    "show()"
   ]
  },
  {
   "cell_type": "markdown",
   "metadata": {},
   "source": [
    "We notice that we recover the exact original field. This happens because the field we chose perfectly match our band-limited hypothesis. One could ask, what if the field is not band-limited ? Can we do anything ?\n",
    "\n",
    "Let's try with a non band-limited function. We take the function $f_2(x)=(|x|-0.5)^2$ for $x\\in[-0.5,0.5]$ and periodized with period $T=1$. **This function is continuous, but not differentiable. It has a sharp angle at $x=0$ and is therefore not band-limited.**"
   ]
  },
  {
   "cell_type": "code",
   "execution_count": 4,
   "metadata": {},
   "outputs": [
    {
     "data": {
      "image/png": "[encoded data removed]",
      "text/plain": [
       "<Figure size 432x288 with 2 Axes>"
      ]
     },
     "metadata": {
      "needs_background": "light"
     },
     "output_type": "display_data"
    }
   ],
   "source": [
    "def f2(x):\n",
    "    return (abs(x)-0.5)**2\n",
    "\n",
    "T = [-0.5, 0.5]\n",
    "order = 10\n",
    "\n",
    "x = (T[1]-T[0])*random.random((100,1))+T[0]\n",
    "z = f2(x)\n",
    "\n",
    "# compute BL interpolation\n",
    "zp1, xp1, C1, k1 = BL_interp_1D(x, z, T, order, win=False)\n",
    "\n",
    "# plot the result\n",
    "subplot(2,1,1)\n",
    "plot(xp1, real(zp1), 'r-', xp1, f2(xp1), 'k--', x, z, 'o')\n",
    "xlim([-0.5,0.5])\n",
    "title('Time Domain')\n",
    "legend(('Interpolated', 'Original','Measurements'))\n",
    "\n",
    "subplot(2,1,2)\n",
    "stem(k1.T, abs(C1), 'k')\n",
    "title('Fourier coefficients magnitude')\n",
    "\n",
    "tight_layout()\n",
    "show()"
   ]
  },
  {
   "cell_type": "markdown",
   "metadata": {},
   "source": [
    "The function $f_2(x)$, although continuous, is not differentiable around zero. This means that it is **not band-limited**. We can understand it in the following way. To approximate the sharp edge at zero with the smooth sine and cosine of the Fourier expansion, an infinite number of coefficients is necessary. However, we see that except around zero, where the sharp angle is smoothed out, our approximation is still excellent.\n",
    "\n",
    "What if we deal with a discontinuous function ? To test this we will use $f_3(x) = x^2$ for $x\\in[0,1)$ and periodized with $T=1$."
   ]
  },
  {
   "cell_type": "code",
   "execution_count": 5,
   "metadata": {},
   "outputs": [
    {
     "data": {
      "image/png": "[encoded data removed]",
      "text/plain": [
       "<Figure size 432x288 with 2 Axes>"
      ]
     },
     "metadata": {
      "needs_background": "light"
     },
     "output_type": "display_data"
    }
   ],
   "source": [
    "# we use fractional part function modf to compactly write f_3\n",
    "def f3(x):\n",
    "    return (x-floor(x))**2\n",
    "\n",
    "T = [-0.5, 0.5]\n",
    "order = 10\n",
    "\n",
    "x = (T[1]-T[0])*random.random((100,1))+T[0]\n",
    "z = f3(x)\n",
    "\n",
    "# compute BL interpolation\n",
    "zp1, xp1, C1, k1 = BL_interp_1D(x, z, T, order, win=False)\n",
    "\n",
    "# plot the result\n",
    "subplot(2,1,1)\n",
    "plot(xp1, real(zp1), 'r-', xp1, f3(xp1), 'k--', x, z, 'o')\n",
    "xlim([-0.5,0.5])\n",
    "title('Time Domain')\n",
    "legend(('Interpolated', 'Groundtruth','Measurements'))\n",
    "\n",
    "subplot(2,1,2)\n",
    "stem(k1.T, abs(C1), 'k')\n",
    "title('Fourier coefficients magnitude')\n",
    "\n",
    "show()"
   ]
  },
  {
   "cell_type": "markdown",
   "metadata": {},
   "source": [
    "We see that in this case, the discontinuity requires much more high frequency coefficients to be well approximated (in fact, one can show that the Fourier coefficients only decrease as $\\sim\\frac{1}{k}$). One way to understand what is happening is to see the band-limited approximation as applying a rectangular window in the frequency domain\n",
    "\n",
    "$$\n",
    "\\hat{c}_k = w_k c_k\n",
    "$$\n",
    "\n",
    "with $w_k = 1$ if $|k| \\leq M$, and zero otherwise. By one of the fundamental properties of the Fourier transform, we know that the resulting time domain signal will be convolved with the Fourier expansion of the rectangular window, i.e. the ***sinc*** function. Which explains the wiggles we see.\n",
    "\n",
    "A solution to this problem is to apply a different window function that is better behaved in the time domain. For example, the [Hann window](https://en.wikipedia.org/wiki/Hann_function). Essentially, we are trading off resolution for smoothness. For a detailed discussion of window functions, one can refer to the [wikipedia entry](https://en.wikipedia.org/wiki/Window_function) on the subject.\n",
    "\n",
    "Let's see now what we obtain using the window function."
   ]
  },
  {
   "cell_type": "code",
   "execution_count": 6,
   "metadata": {},
   "outputs": [
    {
     "data": {
      "image/png": "[encoded data removed]",
      "text/plain": [
       "<Figure size 432x288 with 2 Axes>"
      ]
     },
     "metadata": {
      "needs_background": "light"
     },
     "output_type": "display_data"
    }
   ],
   "source": [
    "# compute BL interpolation\n",
    "zp2, xp2, C2, k2 = BL_interp_1D(x, z, T, order, win=True)\n",
    "\n",
    "# plot the result\n",
    "subplot(2,1,1)\n",
    "plot(xp1, real(zp1), 'r-', xp2, real(zp2), 'k-', xp1, f3(xp1), 'k--', x, z, 'o')\n",
    "xlim([-0.5,0.5])\n",
    "title('Time Domain')\n",
    "legend(('No windowing', 'Windowing','Groundtruth','Measurements'))\n",
    "\n",
    "subplot(2,1,2)\n",
    "markerline, stemlines, baseline = stem(k1.T, abs(C1), 'k')\n",
    "setp(markerline, 'markerfacecolor', 'k')\n",
    "setp(baseline, 'color','k')\n",
    "markerline, stemlines, baseline = stem(k2.T, abs(C2), 'k')\n",
    "setp(markerline, 'markerfacecolor', 'r')\n",
    "setp(baseline, 'color','k')\n",
    "legend(('Original spectrum', 'Windowed spectrum'))\n",
    "title('Fourier coefficients magnitude')\n",
    "show()"
   ]
  },
  {
   "cell_type": "markdown",
   "metadata": {},
   "source": [
    "We observe that we lost some sharpness at the discontinuity by applying the window. However, we gained a lot of smoothness and far better approximation in the rest of the signal."
   ]
  },
  {
   "cell_type": "markdown",
   "metadata": {},
   "source": [
    "Band-limited interpolation of 2D signals\n",
    "----------------------------------------\n",
    "\n",
    "The principles we will apply here are identical to 1D signals. The only difficulty is to write our 2D equation in matrix form. However, as we will see, python offers facilities for this.\n",
    "\n",
    "Let's assume we have now measurements from a 2D field,\n",
    "\n",
    "$$\n",
    "\\{(x_i,y_i,z_i)\\}_{i=0}^{N-1}\n",
    "$$\n",
    "\n",
    "where $z_i = f(x_i,y_i)$. Assuming $f(x,y)$ is a band-limited function, we can write each measaurement as a Fourier expansion\n",
    "\n",
    "$$\n",
    "z_i = f(x,y) = \\sum_{k=-M}^M\\sum_{l=-M}^M c_{kl}\\, e^{j2\\pi\\left(\\frac{x_i k}{T_x}+\\frac{y_i l}{T_y}\\right)},\n",
    "$$\n",
    "\n",
    "where again we assumed $f(x,y)$ is periodic with periods $T_x$ and $T_y$ in the $x$ and $y$ directions, respectively. We can again rewrite this in matrix form $F\\mathbf{c} = \\mathbf{z}$. This is possible by linearizing 2D indices $k,l$ in the following way for example $\\mathbf{c}_{k+(2M+1)l} = c_{kl}$ and $\\{F\\}_{i,k+(2M+1)l} = e^{j2\\pi\\left(\\frac{x_i k}{T_x}+\\frac{y_i l}{T_y}\\right)}$, and $\\mathbf{z}$ as before (we assumed here that we shift $k$ and $l$ to be positive). In practice, we'll use python built-in routines to do this task (so exact order may vary), in particular check the [`meshgrid`](http://docs.scipy.org/doc/numpy/reference/generated/numpy.meshgrid.html) and [`reshape`](http://docs.scipy.org/doc/numpy/reference/generated/numpy.reshape.html) routines. Thus, if we are careful about the reordering of the coefficients, we can re-use the exact same technique as in the 1D case!"
   ]
  },
  {
   "cell_type": "markdown",
   "metadata": {},
   "source": [
    "Interpolate Safecast data around Fukushima Dai-ichi power plant\n",
    "---------------------------------------------------------------\n",
    "\n",
    "We start by importing the data. Be careful, if the data is not available locally, a 2 GB file has to be downloaded and processed. This can take some time.\n",
    "\n",
    "For convenience, we restrict the Safecast dataset to measurements made around the stricken nuclear power plant. We also remove very large measurements as they tend to be very spotty and throw off the interpolation (they have very large bandwidth). This kind of preprocessing is typical of real-world datasets and needs to be adjusted on a case by case basis."
   ]
  },
  {
   "cell_type": "code",
   "execution_count": 11,
   "metadata": {},
   "outputs": [
    {
     "name": "stdout",
     "output_type": "stream",
     "text": [
      "['Captured Time,Latitude,Longitude,Value,Unit,Location Name,Device ID,MD5Sum,Height,Surface,Radiation,Uploaded Time,Loader ID\\n', '2020-02-03 17:00:00,37.507551666667,139.94117,72,cpm,,,6449bbf7ce3b30a8e05bc23a0bc40644,,,,2020-02-03 17:00:00,633\\n', '2020-02-03 11:00:00,37.505445,0.016666666666667,68,cpm,,,a166df14f60b61095693684fc0f89c54,,,,2020-02-03 11:00:00,614\\n']\n"
     ]
    }
   ],
   "source": [
    "data_path = 'C:\\\\Users\\\\Wei\\\\Downloads\\\\'\n",
    "# data_path = '/home/wei/Downloads/'\n",
    "\n",
    "fn_read = data_path + 'measurements.csv'\n",
    "fn_write = 'Safecast_data.txt'\n",
    "\n",
    "n_lines = 10000\n",
    "\n",
    "with open(fn_read, 'r') as f:\n",
    "    with open(fn_write, 'w') as fw:\n",
    "        for i in range(n_lines):\n",
    "            fw.write(next(f)) \n",
    "\n",
    "with open(fn_write, 'r') as f:\n",
    "    print(f.readlines()[:3])"
   ]
  },
  {
   "cell_type": "code",
   "execution_count": 9,
   "metadata": {},
   "outputs": [
    {
     "name": "stdout",
     "output_type": "stream",
     "text": [
      "Number of measurements:  9999\n"
     ]
    }
   ],
   "source": [
    "import pandas as pd\n",
    "import datetime as dt\n",
    "import os\n",
    "\n",
    "# Limit data to use in space and time\n",
    "lat_min, lon_min, lat_max, lon_max = 37.037571, 139.540087, 37.856355, 141.050707  # Fukushima area only\n",
    "dr = ['2011-03-11', '2012-03-11']  # Limit time to first year after accident\n",
    "Value_max = 2500   # Discard very large samples as they tend to throw off interpolation\n",
    "\n",
    "# data filename\n",
    "filename = 'Safecast_data.txt'\n",
    "\n",
    "# If the data file do not exist, we just grab all the data from Safecast's website\n",
    "if (not os.path.isfile(filename)):\n",
    "    data_path = 'C:\\\\Users\\\\Wei\\\\Downloads\\\\'\n",
    "    local_full_dataset = data_path + 'measurements.csv'\n",
    "    \n",
    "    # if the file is not locally present, download from Safecast website\n",
    "    if (not os.path.isfile(local_full_dataset)):\n",
    "        df = pd.read_csv('https://api.safecast.org/system/measurements.csv', parse_dates=True, index_col=0)\n",
    "    else:\n",
    "        df = pd.read_csv(local_full_dataset, parse_dates=True, index_col=0)\n",
    "    \n",
    "    # sort the index to be ordered chronologically\n",
    "    df.sort_index(inplace=True)\n",
    "    \n",
    "    # Select the measurements in that space-time interval\n",
    "    map_space = logical_and(logical_and(df.Latitude > lat_min, df.Latitude < lat_max), logical_and(df.Longitude > lon_min, df.Longitude < lon_max))\n",
    "    map_mag = logical_and(df.Value > 0, df.Value < Value_max)\n",
    "    df_fuku = df[['Longitude','Latitude','Value']][logical_and(map_space, map_mag)][dr[0]:dr[1]]\n",
    "    \n",
    "    # save locally for further use\n",
    "    df_fuku.to_csv(filename)\n",
    "\n",
    "else:\n",
    "    df_fuku = pd.read_csv(filename, error_bad_lines=False)\n",
    "    \n",
    "    \n",
    "print('Number of measurements: ', len(df_fuku))"
   ]
  },
  {
   "cell_type": "code",
   "execution_count": 10,
   "metadata": {},
   "outputs": [
    {
     "data": {
      "text/html": [
       "<div>\n",
       "<style scoped>\n",
       "    .dataframe tbody tr th:only-of-type {\n",
       "        vertical-align: middle;\n",
       "    }\n",
       "\n",
       "    .dataframe tbody tr th {\n",
       "        vertical-align: top;\n",
       "    }\n",
       "\n",
       "    .dataframe thead th {\n",
       "        text-align: right;\n",
       "    }\n",
       "</style>\n",
       "<table border=\"1\" class=\"dataframe\">\n",
       "  <thead>\n",
       "    <tr style=\"text-align: right;\">\n",
       "      <th></th>\n",
       "      <th>Captured Time</th>\n",
       "      <th>Latitude</th>\n",
       "      <th>Longitude</th>\n",
       "      <th>Value</th>\n",
       "      <th>Unit</th>\n",
       "      <th>Location Name</th>\n",
       "      <th>Device ID</th>\n",
       "      <th>MD5Sum</th>\n",
       "      <th>Height</th>\n",
       "      <th>Surface</th>\n",
       "      <th>Radiation</th>\n",
       "      <th>Uploaded Time</th>\n",
       "      <th>Loader ID</th>\n",
       "    </tr>\n",
       "  </thead>\n",
       "  <tbody>\n",
       "    <tr>\n",
       "      <th>9996</th>\n",
       "      <td>2018-11-06 19:00:51</td>\n",
       "      <td>37.563007</td>\n",
       "      <td>140.995446</td>\n",
       "      <td>14.0</td>\n",
       "      <td>cpm</td>\n",
       "      <td>NaN</td>\n",
       "      <td>100082.0</td>\n",
       "      <td>8116628f03a97c80b5d762a50fb54f4b</td>\n",
       "      <td>3.0</td>\n",
       "      <td>NaN</td>\n",
       "      <td>NaN</td>\n",
       "      <td>2018-11-06 19:00:51.727104</td>\n",
       "      <td>NaN</td>\n",
       "    </tr>\n",
       "    <tr>\n",
       "      <th>9997</th>\n",
       "      <td>2018-11-06 19:00:51</td>\n",
       "      <td>37.563007</td>\n",
       "      <td>140.995446</td>\n",
       "      <td>43.0</td>\n",
       "      <td>cpm</td>\n",
       "      <td>NaN</td>\n",
       "      <td>100081.0</td>\n",
       "      <td>2ec8996b6c4a6af590a3d816cb061c70</td>\n",
       "      <td>3.0</td>\n",
       "      <td>NaN</td>\n",
       "      <td>NaN</td>\n",
       "      <td>2018-11-06 19:00:51.379168</td>\n",
       "      <td>NaN</td>\n",
       "    </tr>\n",
       "    <tr>\n",
       "      <th>9998</th>\n",
       "      <td>2018-11-06 18:59:51</td>\n",
       "      <td>52.444900</td>\n",
       "      <td>13.315000</td>\n",
       "      <td>24.0</td>\n",
       "      <td>cpm</td>\n",
       "      <td>Berlin, DE</td>\n",
       "      <td>204.0</td>\n",
       "      <td>c47e06275b2d81b3d0ec105051201f2f</td>\n",
       "      <td>NaN</td>\n",
       "      <td>NaN</td>\n",
       "      <td>NaN</td>\n",
       "      <td>2018-11-06 19:00:51.290811</td>\n",
       "      <td>NaN</td>\n",
       "    </tr>\n",
       "  </tbody>\n",
       "</table>\n",
       "</div>"
      ],
      "text/plain": [
       "            Captured Time   Latitude   Longitude  Value Unit Location Name  \\\n",
       "9996  2018-11-06 19:00:51  37.563007  140.995446   14.0  cpm           NaN   \n",
       "9997  2018-11-06 19:00:51  37.563007  140.995446   43.0  cpm           NaN   \n",
       "9998  2018-11-06 18:59:51  52.444900   13.315000   24.0  cpm    Berlin, DE   \n",
       "\n",
       "      Device ID                            MD5Sum  Height  Surface  Radiation  \\\n",
       "9996   100082.0  8116628f03a97c80b5d762a50fb54f4b     3.0      NaN        NaN   \n",
       "9997   100081.0  2ec8996b6c4a6af590a3d816cb061c70     3.0      NaN        NaN   \n",
       "9998      204.0  c47e06275b2d81b3d0ec105051201f2f     NaN      NaN        NaN   \n",
       "\n",
       "                   Uploaded Time  Loader ID  \n",
       "9996  2018-11-06 19:00:51.727104        NaN  \n",
       "9997  2018-11-06 19:00:51.379168        NaN  \n",
       "9998  2018-11-06 19:00:51.290811        NaN  "
      ]
     },
     "execution_count": 10,
     "metadata": {},
     "output_type": "execute_result"
    }
   ],
   "source": [
    "df_fuku.tail(3)"
   ]
  },
  {
   "cell_type": "markdown",
   "metadata": {},
   "source": [
    "__Note__: The computational burden of the notebook can be decreased by subsampling the vector `df_fuku` here (only keeping one out of every $x$ entries for example).\n",
    "\n",
    "Now, let's take a look at the data we have at hand. Since they were taken with a car, we expect the measurements to line up into trajectories following the road network."
   ]
  },
  {
   "cell_type": "code",
   "execution_count": 18,
   "metadata": {},
   "outputs": [
    {
     "name": "stdout",
     "output_type": "stream",
     "text": [
      "<class 'pandas.core.frame.DataFrame'>\n"
     ]
    },
    {
     "data": {
      "image/png": "[encoded data removed]",
      "text/plain": [
       "<Figure size 432x288 with 1 Axes>"
      ]
     },
     "metadata": {},
     "output_type": "display_data"
    }
   ],
   "source": [
    "ax = subplot(111)\n",
    "print(type(df_fuku))\n",
    "plt.scatter(df_fuku.Longitude, df_fuku.Latitude, c=df_fuku.Value, marker='.', edgecolor='none')\n",
    "\n",
    "plt.tick_params(\\\n",
    "    axis='both',          # changes apply to the x-axis\n",
    "    which='both',      # both major and minor ticks are affected\n",
    "    bottom='off', top='off', right='off', left='off',         # ticks along the top edge are off\n",
    "    labelbottom='off',labelleft='off') # labels along the bottom and left edges are off\n",
    "\n",
    "ax.set_aspect('equal')\n",
    "axis('tight')\n",
    "\n",
    "show()"
   ]
  },
  {
   "cell_type": "markdown",
   "metadata": {},
   "source": [
    "### Interpolation\n",
    "\n",
    "Let's go into the interpolation of the 2D radiation field. We mentionned earlier that one of the hidden assumption of our model is that the signal is periodic. It is thus possible to see wrap-around artifacts appear in our interpolation. To reduce this, we add an area empty of measurements. Effectively, we fix our interval to start a pre-defined distance from the closest measurement in all direction.\n",
    "\n",
    "It turns out also that we need to use another dirty trick here in order to get a good interpolation. Real-world measurements are unfortunately subject to noise. Especially low-level radiation data inherently has low signal-to-noise ratio. In addition, our data contains many redundant, or close to redundant points, leading to a poorly condition $F$ matrix. To better conditionned the matrix, a **singular value decomposition** is used and the singular values lower than some threshold are discarded. This allows to decrease the [condition number](https://en.wikipedia.org/wiki/Condition_number) of the $F$ matrix and obtain a stable solution to the system. This functionality is luckily implemented in the [`lstsq`](http://docs.scipy.org/doc/numpy/reference/generated/numpy.linalg.lstsq.html) function from numpy.\n",
    "\n",
    "Note that the following piece of code is where the heavy number crunching is done and you'll need a fair amount of RAM to run it."
   ]
  },
  {
   "cell_type": "code",
   "execution_count": 19,
   "metadata": {},
   "outputs": [],
   "source": [
    "# Choose an order and a padding size for the interpolation\n",
    "order = 10\n",
    "padding = 0.2 # unit is in degrees for lat/lon\n",
    "\n",
    "# Recenter the coordinates to start at origin\n",
    "x = expand_dims(df_fuku.Longitude - lon_min + padding, 1)\n",
    "y = expand_dims(df_fuku.Latitude - lat_min + padding, 1)\n",
    "z = expand_dims(df_fuku.Value, 1)\n",
    "\n",
    "# The size of the interval to interpolate\n",
    "Tx = x.max() + padding\n",
    "Ty = y.max() + padding\n",
    "\n",
    "# construct our Fourier order vectors\n",
    "k = arange(-order, order+1)\n",
    "l = arange(-order, order+1)\n",
    "K,L = meshgrid(k,l)\n",
    "\n",
    "# vectorize\n",
    "linK = reshape(K, (1, -1))\n",
    "linL = reshape(L, (1, -1))\n",
    "\n",
    "# make the matrix\n",
    "# Note, we rely here on broadcasting by numpy to get the matrix for all pairs of entries from x/linK and y/linL\n",
    "F = exp(2j*pi*(x*linK/Tx + y*linL/Ty))/sqrt(Tx*Ty)\n",
    "\n",
    "# Least-square projection\n",
    "C = linalg.lstsq(F, z, 1e-2)[0]"
   ]
  },
  {
   "cell_type": "markdown",
   "metadata": {},
   "source": [
    "Let's now take a first look at the spectrum we obtained. We notice the plume like behavior. We also see that the spectrum does not decay gracefully to zero within the order that we chose. To mitigate this, we could either choose a higher order $M$ for the band-limited spectrum, or window the spectrum before reconstruction to smooth things. We will choose the latter here as the addition of more coefficients increases rapidly the amount of memory necessary to solve the least-square problem.\n",
    "\n",
    "Of course, this also means that we are actually dealing with a field actually not band-limited and our reconstruction will thus be inexact. We hope however that we will get a good idea of the large-scale behavior of the field."
   ]
  },
  {
   "cell_type": "code",
   "execution_count": 20,
   "metadata": {},
   "outputs": [
    {
     "data": {
      "image/png": "[encoded data removed]",
      "text/plain": [
       "<Figure size 432x288 with 1 Axes>"
      ]
     },
     "metadata": {
      "needs_background": "light"
     },
     "output_type": "display_data"
    }
   ],
   "source": [
    "ax = subplot(1,1,1)\n",
    "ax.pcolormesh(K, L, (abs(reshape(C, (2*order+1, 2*order+1)))))\n",
    "ax.set_aspect('equal')\n",
    "axis([-order, order, -order, order])\n",
    "title('Least-square projection of Band-limited spectrum')\n",
    "show()"
   ]
  },
  {
   "cell_type": "markdown",
   "metadata": {},
   "source": [
    "We now compute the value of our interpolation on a fine regularly spaced grid over the area. We use the same type of vectorization to go from the 2D representation to our matrix notation described above."
   ]
  },
  {
   "cell_type": "code",
   "execution_count": 21,
   "metadata": {},
   "outputs": [
    {
     "ename": "MemoryError",
     "evalue": "",
     "output_type": "error",
     "traceback": [
      "\u001b[0;31m---------------------------------------------------------------------------\u001b[0m",
      "\u001b[0;31mMemoryError\u001b[0m                               Traceback (most recent call last)",
      "\u001b[0;32m<ipython-input-21-f79a9354d18f>\u001b[0m in \u001b[0;36m<module>\u001b[0;34m\u001b[0m\n\u001b[1;32m     17\u001b[0m \u001b[0;34m\u001b[0m\u001b[0m\n\u001b[1;32m     18\u001b[0m \u001b[0;31m# Reconstruct after applying the Hann window\u001b[0m\u001b[0;34m\u001b[0m\u001b[0;34m\u001b[0m\u001b[0m\n\u001b[0;32m---> 19\u001b[0;31m \u001b[0mZprime\u001b[0m \u001b[0;34m=\u001b[0m \u001b[0mdot\u001b[0m\u001b[0;34m(\u001b[0m\u001b[0mexp\u001b[0m\u001b[0;34m(\u001b[0m\u001b[0;36m2j\u001b[0m\u001b[0;34m*\u001b[0m\u001b[0mpi\u001b[0m\u001b[0;34m*\u001b[0m\u001b[0;34m(\u001b[0m\u001b[0mlinXg\u001b[0m\u001b[0;34m*\u001b[0m\u001b[0mlinK\u001b[0m\u001b[0;34m/\u001b[0m\u001b[0mTx\u001b[0m \u001b[0;34m+\u001b[0m \u001b[0mlinYg\u001b[0m\u001b[0;34m*\u001b[0m\u001b[0mlinL\u001b[0m\u001b[0;34m/\u001b[0m\u001b[0mTy\u001b[0m\u001b[0;34m)\u001b[0m\u001b[0;34m)\u001b[0m\u001b[0;34m/\u001b[0m\u001b[0msqrt\u001b[0m\u001b[0;34m(\u001b[0m\u001b[0mTx\u001b[0m\u001b[0;34m*\u001b[0m\u001b[0mTy\u001b[0m\u001b[0;34m)\u001b[0m\u001b[0;34m,\u001b[0m \u001b[0mWlin\u001b[0m\u001b[0;34m*\u001b[0m\u001b[0mC\u001b[0m\u001b[0;34m)\u001b[0m\u001b[0;34m\u001b[0m\u001b[0m\n\u001b[0m\u001b[1;32m     20\u001b[0m \u001b[0;34m\u001b[0m\u001b[0m\n\u001b[1;32m     21\u001b[0m \u001b[0;31m# Reshape the result into the original 2D representation\u001b[0m\u001b[0;34m\u001b[0m\u001b[0;34m\u001b[0m\u001b[0m\n",
      "\u001b[0;31mMemoryError\u001b[0m: "
     ]
    }
   ],
   "source": [
    "# Pick the spacing of the grid\n",
    "step = 0.005\n",
    "\n",
    "# regularly spaced grid\n",
    "xg = arange(0, Tx, step)\n",
    "yg = arange(0, Ty, step)\n",
    "\n",
    "# vectorize\n",
    "Xg, Yg = meshgrid(xg, yg)\n",
    "linXg = reshape(Xg, (1, -1)).T\n",
    "linYg = reshape(Yg, (1, -1)).T\n",
    "\n",
    "# 2D Hann window\n",
    "W = expand_dims(hanning(2*order+1), 1)\n",
    "W = W*W.T\n",
    "Wlin = reshape(W, (1, -1)).T\n",
    "\n",
    "# Reconstruct after applying the Hann window  \n",
    "Zprime = dot(exp(2j*pi*(linXg*linK/Tx + linYg*linL/Ty))/sqrt(Tx*Ty), Wlin*C)\n",
    "\n",
    "# Reshape the result into the original 2D representation\n",
    "ZI = real(reshape(Zprime, (len(yg), len(xg))))"
   ]
  },
  {
   "cell_type": "markdown",
   "metadata": {},
   "source": [
    "We can now plot the interpolated field. To do so, we also drop the padding area we added previously since it doesn't correspond to anything real. Here we plot in the latitude/longitude domain without any special projection, which means the field is somewhat deformed."
   ]
  },
  {
   "cell_type": "code",
   "execution_count": 19,
   "metadata": {},
   "outputs": [
    {
     "ename": "NameError",
     "evalue": "name 'ZI' is not defined",
     "output_type": "error",
     "traceback": [
      "\u001b[1;31m---------------------------------------------------------------------------\u001b[0m",
      "\u001b[1;31mNameError\u001b[0m                                 Traceback (most recent call last)",
      "\u001b[1;32m<ipython-input-19-ca103f51102b>\u001b[0m in \u001b[0;36m<module>\u001b[1;34m\u001b[0m\n\u001b[0;32m      4\u001b[0m \u001b[0mLon\u001b[0m \u001b[1;33m=\u001b[0m \u001b[0mXg\u001b[0m\u001b[1;33m[\u001b[0m\u001b[0mymin\u001b[0m\u001b[1;33m:\u001b[0m\u001b[0mymax\u001b[0m\u001b[1;33m,\u001b[0m\u001b[0mxmin\u001b[0m\u001b[1;33m:\u001b[0m\u001b[0mxmax\u001b[0m\u001b[1;33m]\u001b[0m \u001b[1;33m+\u001b[0m \u001b[0mlon_min\u001b[0m \u001b[1;33m-\u001b[0m \u001b[0mpadding\u001b[0m\u001b[1;33m\u001b[0m\u001b[1;33m\u001b[0m\u001b[0m\n\u001b[0;32m      5\u001b[0m \u001b[0mLat\u001b[0m \u001b[1;33m=\u001b[0m \u001b[0mYg\u001b[0m\u001b[1;33m[\u001b[0m\u001b[0mymin\u001b[0m\u001b[1;33m:\u001b[0m\u001b[0mymax\u001b[0m\u001b[1;33m,\u001b[0m\u001b[0mxmin\u001b[0m\u001b[1;33m:\u001b[0m\u001b[0mxmax\u001b[0m\u001b[1;33m]\u001b[0m \u001b[1;33m+\u001b[0m \u001b[0mlat_min\u001b[0m \u001b[1;33m-\u001b[0m \u001b[0mpadding\u001b[0m\u001b[1;33m\u001b[0m\u001b[1;33m\u001b[0m\u001b[0m\n\u001b[1;32m----> 6\u001b[1;33m \u001b[0mField\u001b[0m \u001b[1;33m=\u001b[0m \u001b[0mZI\u001b[0m\u001b[1;33m[\u001b[0m\u001b[0mymin\u001b[0m\u001b[1;33m:\u001b[0m\u001b[0mymax\u001b[0m\u001b[1;33m,\u001b[0m\u001b[0mxmin\u001b[0m\u001b[1;33m:\u001b[0m\u001b[0mxmax\u001b[0m\u001b[1;33m]\u001b[0m\u001b[1;33m\u001b[0m\u001b[1;33m\u001b[0m\u001b[0m\n\u001b[0m\u001b[0;32m      7\u001b[0m \u001b[1;33m\u001b[0m\u001b[0m\n\u001b[0;32m      8\u001b[0m \u001b[0max\u001b[0m \u001b[1;33m=\u001b[0m \u001b[0msubplot\u001b[0m\u001b[1;33m(\u001b[0m\u001b[1;36m1\u001b[0m\u001b[1;33m,\u001b[0m\u001b[1;36m1\u001b[0m\u001b[1;33m,\u001b[0m\u001b[1;36m1\u001b[0m\u001b[1;33m)\u001b[0m\u001b[1;33m\u001b[0m\u001b[1;33m\u001b[0m\u001b[0m\n",
      "\u001b[1;31mNameError\u001b[0m: name 'ZI' is not defined"
     ]
    }
   ],
   "source": [
    "xmin, xmax =  int(padding/step), int((Tx-padding)/step)\n",
    "ymin, ymax =  int(padding/step),  int((Ty-padding)/step)\n",
    "\n",
    "Lon = Xg[ymin:ymax,xmin:xmax] + lon_min - padding\n",
    "Lat = Yg[ymin:ymax,xmin:xmax] + lat_min - padding\n",
    "Field = ZI[ymin:ymax,xmin:xmax]\n",
    "\n",
    "ax = subplot(1,1,1)\n",
    "ax.pcolormesh(Lon, Lat, Field)\n",
    "ax.set_aspect('equal')\n",
    "axis([Lon.min(), Lon.max(), Lat.min(), Lat.max()])\n",
    "title('Reconstructed radiation dose rate field')\n",
    "show()"
   ]
  },
  {
   "cell_type": "markdown",
   "metadata": {},
   "source": [
    "To give a nicer touch to this graph, we will use the `basemap` package from matplotlib to project the reconstructed field on a map. We will also indicate the position of the nuclear power plant, as well as the coast line of Japan.\n",
    "\n",
    "The `basemap` package is absent from some python distribution (notably Anaconda) and need to be installed by hand. With Anaconda, it is enough to open a terminal and type in the following.\n",
    "\n",
    "        conda install basemap\n"
   ]
  },
  {
   "cell_type": "code",
   "execution_count": 21,
   "metadata": {},
   "outputs": [
    {
     "ename": "ModuleNotFoundError",
     "evalue": "No module named 'mpl_toolkits.basemap'",
     "output_type": "error",
     "traceback": [
      "\u001b[1;31m---------------------------------------------------------------------------\u001b[0m",
      "\u001b[1;31mModuleNotFoundError\u001b[0m                       Traceback (most recent call last)",
      "\u001b[1;32m<ipython-input-21-a31070a0b323>\u001b[0m in \u001b[0;36m<module>\u001b[1;34m\u001b[0m\n\u001b[1;32m----> 1\u001b[1;33m \u001b[1;32mfrom\u001b[0m \u001b[0mmpl_toolkits\u001b[0m\u001b[1;33m.\u001b[0m\u001b[0mbasemap\u001b[0m \u001b[1;32mimport\u001b[0m \u001b[0mBasemap\u001b[0m\u001b[1;33m\u001b[0m\u001b[1;33m\u001b[0m\u001b[0m\n\u001b[0m\u001b[0;32m      2\u001b[0m \u001b[1;33m\u001b[0m\u001b[0m\n\u001b[0;32m      3\u001b[0m \u001b[1;31m# create figure, axes instances.\u001b[0m\u001b[1;33m\u001b[0m\u001b[1;33m\u001b[0m\u001b[1;33m\u001b[0m\u001b[0m\n\u001b[0;32m      4\u001b[0m \u001b[0mfig\u001b[0m \u001b[1;33m=\u001b[0m \u001b[0mplt\u001b[0m\u001b[1;33m.\u001b[0m\u001b[0mfigure\u001b[0m\u001b[1;33m(\u001b[0m\u001b[1;33m)\u001b[0m\u001b[1;33m\u001b[0m\u001b[1;33m\u001b[0m\u001b[0m\n\u001b[0;32m      5\u001b[0m \u001b[0max\u001b[0m \u001b[1;33m=\u001b[0m \u001b[0mfig\u001b[0m\u001b[1;33m.\u001b[0m\u001b[0madd_axes\u001b[0m\u001b[1;33m(\u001b[0m\u001b[1;33m[\u001b[0m\u001b[1;36m0.05\u001b[0m\u001b[1;33m,\u001b[0m\u001b[1;36m0.05\u001b[0m\u001b[1;33m,\u001b[0m\u001b[1;36m0.9\u001b[0m\u001b[1;33m,\u001b[0m\u001b[1;36m0.9\u001b[0m\u001b[1;33m]\u001b[0m\u001b[1;33m)\u001b[0m\u001b[1;33m\u001b[0m\u001b[1;33m\u001b[0m\u001b[0m\n",
      "\u001b[1;31mModuleNotFoundError\u001b[0m: No module named 'mpl_toolkits.basemap'"
     ]
    }
   ],
   "source": [
    "from mpl_toolkits.basemap import Basemap\n",
    "\n",
    "# create figure, axes instances.\n",
    "fig = plt.figure()\n",
    "ax = fig.add_axes([0.05,0.05,0.9,0.9])\n",
    "#\n",
    "m = Basemap(llcrnrlon=lon_min, llcrnrlat=lat_min, urcrnrlon=lon_max, urcrnrlat=lat_max,\n",
    "            rsphere=(6378137.00,6356752.3142),\\\n",
    "            resolution='l',projection='lcc',\\\n",
    "            lat_1=lat_min-padding,lat_2=lat_max+padding,lat_0=(lat_max+lat_min)/2.,lon_0=(lon_max+lon_min)/2.)\n",
    "\n",
    "# draw line around map projection limb.\n",
    "m.drawmapboundary(fill_color='0.3')\n",
    "m.drawcoastlines(linewidth=2)\n",
    "m.drawstates()\n",
    "m.drawparallels(arange(37.1,38,0.2),labels=[1,1,0,0], fontsize=14)\n",
    "m.drawmeridians(arange(139.5,141.5,0.5),labels=[0,0,1,0], fontsize=14)\n",
    "\n",
    "# plot sst, then ice with pcolor\n",
    "#im1 = m.pcolormesh(Xg+lon_min-padding, Yg+lat_min-padding,ZI,shading='flat',cmap=plt.cm.jet,latlon=True)\n",
    "\n",
    "nx = int((m.xmax-m.xmin)/50.)+1; ny = int((m.ymax-m.ymin)/50.)+1\n",
    "ZIdat = m.transform_scalar(Field, Lon[0],Lat.T[0], nx, ny)\n",
    "im1 = m.imshow(ZIdat)\n",
    "\n",
    "# Add Dai-ichi power station\n",
    "daiichi = (37.421463, 141.032556)\n",
    "m.scatter(daiichi[1], daiichi[0], latlon=True, marker='*', s=400, color='k')\n",
    "\n",
    "# add colorbar\n",
    "cb = m.colorbar(im1,\"bottom\", size=\"5%\", pad=\"2%\")\n",
    "cb.set_label('Radiation dose rate', fontsize=20)\n",
    "cb.set_ticks([ZIdat.min(), ZIdat.max()])\n",
    "cb.set_ticklabels(('low','high'))\n",
    "cb.ax.tick_params(labelsize=20) \n",
    "\n",
    "show()"
   ]
  },
  {
   "cell_type": "markdown",
   "metadata": {},
   "source": [
    "To conclude, we can compare our reconstruction to a different interpolation. The interpolation we compare to is done using non-lniear techniques and does not suppose any band-limitedness of the data. It is thus evidently superior. However, we can observe that the band-limited interpolation still gives an excellent first-order approximation.\n",
    "\n",
    "<img src='http://i.imgur.com/08Aa4KA.png' width=800>"
   ]
  }
 ],
 "metadata": {
  "kernelspec": {
   "display_name": "Python 3",
   "language": "python",
   "name": "python3"
  },
  "language_info": {
   "codemirror_mode": {
    "name": "ipython",
    "version": 3
   },
   "file_extension": ".py",
   "mimetype": "text/x-python",
   "name": "python",
   "nbconvert_exporter": "python",
   "pygments_lexer": "ipython3",
   "version": "3.6.7"
  }
 },
 "nbformat": 4,
 "nbformat_minor": 1
}
