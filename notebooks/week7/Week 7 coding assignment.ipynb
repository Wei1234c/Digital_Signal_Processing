{
 "cells": [
  {
   "cell_type": "markdown",
   "metadata": {},
   "source": [
    "# Week 7 coding assignment"
   ]
  },
  {
   "cell_type": "code",
   "execution_count": 9,
   "metadata": {},
   "outputs": [
    {
     "name": "stdout",
     "output_type": "stream",
     "text": [
      "Populating the interactive namespace from numpy and matplotlib\n"
     ]
    }
   ],
   "source": [
    "%pylab inline\n",
    "\n",
    "from sympy import *\n",
    "init_printing(use_unicode = True, fontsize = 16)\n",
    "\n",
    "pi2 = pi * 2"
   ]
  },
  {
   "cell_type": "code",
   "execution_count": 10,
   "metadata": {},
   "outputs": [],
   "source": [
    "import os\n",
    "import sys \n",
    "\n",
    "if os.name == 'nt':\n",
    "    path = ['C:\\\\Users\\\\Wei\\\\Dropbox\\\\Coding\\\\notebooks\\\\專案\\\\待處理\\\\Waves\\\\bitbucket\\\\github\\\\codes',\n",
    "            'C:\\\\Users\\\\Wei\\\\Dropbox\\\\Coding\\\\notebooks\\\\工具與技術\\\\DSP\\\\github\\\\codes\\\\MP3_player']    \n",
    "    data_path = 'C:\\\\Users\\\\Wei\\\\Dropbox\\\\Coding\\\\notebooks\\\\工具與技術\\\\DSP\\\\github\\\\codes\\\\MP3_player'\n",
    "else:\n",
    "    path = ['/home/wei/Dropbox/Coding/notebooks/專案/待處理/Waves/bitbucket/github/codes',\n",
    "            '/home/wei/Dropbox/Coding/notebooks/工具與技術/DSP/github/codes/MP3_player']\n",
    "    data_path = '/home/wei/Dropbox/Coding/notebooks/工具與技術/DSP/github/codes/MP3_player'\n",
    "    \n",
    "sys.path.extend(path) \n",
    "\n",
    "from waves.sound import *\n",
    "from waves.tools.dsp import *"
   ]
  },
  {
   "cell_type": "code",
   "execution_count": 17,
   "metadata": {},
   "outputs": [],
   "source": [
    "from scipy.io import wavfile"
   ]
  },
  {
   "cell_type": "code",
   "execution_count": 11,
   "metadata": {},
   "outputs": [],
   "source": [
    "def prototype_filter_remez():\n",
    "    \n",
    "    \"\"\" ASSIGNMENT 2\n",
    "\n",
    "        Compute the prototype filter used in subband coding. The filter\n",
    "        is a 512-point lowpass FIR h[n] with bandwidth pi/64 and stopband\n",
    "        starting at pi/32\n",
    "\n",
    "        You should use the remez routine (signal.remez()). See\n",
    "        http://docs.scipy.org/doc/scipy/reference/generated/scipy.signal.remez.html\n",
    "    \"\"\"\n",
    "    \n",
    "    from scipy import signal\n",
    "    \n",
    "    \n",
    "    M = 512\n",
    "    Fs = 44100\n",
    "    F_nyquist = Fs // 2\n",
    "    \n",
    "    Fpass = F_nyquist * (1/128)\n",
    "    Fstop = F_nyquist * (1/32)\n",
    "    bpass = signal.remez(numtaps = M,\n",
    "                         bands =  [0, Fpass, Fstop, F_nyquist],\n",
    "                         desired = [2, 0], Hz = Fs)\n",
    "    \n",
    "    return bpass\n",
    "\n",
    "def prototype_filter2():\n",
    "    \n",
    "    \"\"\" ASSIGNMENT 2\n",
    "\n",
    "        Compute the prototype filter used in subband coding. The filter\n",
    "        is a 512-point lowpass FIR h[n] with bandwidth pi/64 and stopband\n",
    "        starting at pi/32\n",
    "\n",
    "        You should use the remez routine (signal.remez()). See\n",
    "        http://docs.scipy.org/doc/scipy/reference/generated/scipy.signal.remez.html\n",
    "    \"\"\"\n",
    "    \n",
    "    N = 512\n",
    "    w = dsp.get_freq_bins(N)\n",
    "\n",
    "    H = np.zeros_like(w)\n",
    "    H[abs(w) <= np.pi / 128] = 2\n",
    "\n",
    "    fourier.plot = False\n",
    "    h = fourier.idtft(H, n_samples = N, plt_abs = False)\n",
    "\n",
    "    return h\n",
    "\n",
    "\n",
    "prototype_filter = prototype_filter_remez\n",
    "# prototype_filter = prototype_filter2"
   ]
  },
  {
   "cell_type": "code",
   "execution_count": 12,
   "metadata": {},
   "outputs": [],
   "source": [
    "def subband_filtering(x, h):\n",
    "    \"\"\" ASSIGNMENT 3\n",
    "\n",
    "        Write a routine to implement the efficient version of the subband filter\n",
    "        as specified by the MP3 standard\n",
    "\n",
    "        Arguments:\n",
    "        x:  a new 512-point data buffer, in time-reversed order [x[n],x[n-1],...,x[n-511]].\n",
    "        h:  The prototype filter of the filter bank you found in the previous assignment\n",
    "\n",
    "        Returns:\n",
    "        s: 32 new output samples\n",
    "    \"\"\"\n",
    "\n",
    "    # Your code goes here\n",
    "    pass"
   ]
  },
  {
   "cell_type": "code",
   "execution_count": 20,
   "metadata": {},
   "outputs": [],
   "source": [
    "def check_assignment3():\n",
    "    h = prototype_filter()\n",
    "\n",
    "    # Create the cosine filter bank\n",
    "    cosine_bank = np.cos(np.pi / 64. * (2 * np.arange(32)[:, np.newaxis] + 1) * (np.arange(h.shape[0]) - 16))\n",
    "    fb = cosine_bank * h\n",
    "\n",
    "    pass_test = True\n",
    "    n_tests = 4\n",
    "\n",
    "    for i in range(1, n_tests + 1):\n",
    "        fin = data_path + '/data/testInput' + str(i) + '.wav'\n",
    "        fout = data_path + '/data/a3_testOutput' + str(i) + '.txt'\n",
    "\n",
    "        r, x_in = wavfile.read(fin)\n",
    "\n",
    "        h = np.hanning(512)\n",
    "        X = subband_filtering(x_in, h)\n",
    "        X_check = np.loadtxt(fout)\n",
    "\n",
    "        # compare to test output file content\n",
    "        if np.allclose(X, X_check):\n",
    "            print('Test ' + str(i) + ' : passed.')\n",
    "            pass_test = pass_test and True\n",
    "        else:\n",
    "            print('Test ' + str(i) + ' : failed.')\n",
    "            pass_test = pass_test and False"
   ]
  },
  {
   "cell_type": "code",
   "execution_count": 21,
   "metadata": {},
   "outputs": [
    {
     "ename": "TypeError",
     "evalue": "ufunc 'isfinite' not supported for the input types, and the inputs could not be safely coerced to any supported types according to the casting rule ''safe''",
     "output_type": "error",
     "traceback": [
      "\u001b[1;31m---------------------------------------------------------------------------\u001b[0m",
      "\u001b[1;31mTypeError\u001b[0m                                 Traceback (most recent call last)",
      "\u001b[1;32m<ipython-input-21-4a77dfde1485>\u001b[0m in \u001b[0;36m<module>\u001b[1;34m\u001b[0m\n\u001b[1;32m----> 1\u001b[1;33m \u001b[0mcheck_assignment3\u001b[0m\u001b[1;33m(\u001b[0m\u001b[1;33m)\u001b[0m\u001b[1;33m\u001b[0m\u001b[1;33m\u001b[0m\u001b[0m\n\u001b[0m\u001b[0;32m      2\u001b[0m \u001b[1;33m\u001b[0m\u001b[0m\n\u001b[0;32m      3\u001b[0m \u001b[1;31m# import generate_submission\u001b[0m\u001b[1;33m\u001b[0m\u001b[1;33m\u001b[0m\u001b[1;33m\u001b[0m\u001b[0m\n\u001b[0;32m      4\u001b[0m \u001b[1;31m# generate_submission.output('3')\u001b[0m\u001b[1;33m\u001b[0m\u001b[1;33m\u001b[0m\u001b[1;33m\u001b[0m\u001b[0m\n",
      "\u001b[1;32m<ipython-input-20-27eaf7d7d6ad>\u001b[0m in \u001b[0;36mcheck_assignment3\u001b[1;34m()\u001b[0m\n\u001b[0;32m     20\u001b[0m \u001b[1;33m\u001b[0m\u001b[0m\n\u001b[0;32m     21\u001b[0m         \u001b[1;31m# compare to test output file content\u001b[0m\u001b[1;33m\u001b[0m\u001b[1;33m\u001b[0m\u001b[1;33m\u001b[0m\u001b[0m\n\u001b[1;32m---> 22\u001b[1;33m         \u001b[1;32mif\u001b[0m \u001b[0mnp\u001b[0m\u001b[1;33m.\u001b[0m\u001b[0mallclose\u001b[0m\u001b[1;33m(\u001b[0m\u001b[0mX\u001b[0m\u001b[1;33m,\u001b[0m \u001b[0mX_check\u001b[0m\u001b[1;33m)\u001b[0m\u001b[1;33m:\u001b[0m\u001b[1;33m\u001b[0m\u001b[1;33m\u001b[0m\u001b[0m\n\u001b[0m\u001b[0;32m     23\u001b[0m             \u001b[0mprint\u001b[0m\u001b[1;33m(\u001b[0m\u001b[1;34m'Test '\u001b[0m \u001b[1;33m+\u001b[0m \u001b[0mstr\u001b[0m\u001b[1;33m(\u001b[0m\u001b[0mi\u001b[0m\u001b[1;33m)\u001b[0m \u001b[1;33m+\u001b[0m \u001b[1;34m' : passed.'\u001b[0m\u001b[1;33m)\u001b[0m\u001b[1;33m\u001b[0m\u001b[1;33m\u001b[0m\u001b[0m\n\u001b[0;32m     24\u001b[0m             \u001b[0mpass_test\u001b[0m \u001b[1;33m=\u001b[0m \u001b[0mpass_test\u001b[0m \u001b[1;32mand\u001b[0m \u001b[1;32mTrue\u001b[0m\u001b[1;33m\u001b[0m\u001b[1;33m\u001b[0m\u001b[0m\n",
      "\u001b[1;32mC:\\Softwares\\Python\\lib\\site-packages\\numpy\\core\\numeric.py\u001b[0m in \u001b[0;36mallclose\u001b[1;34m(a, b, rtol, atol, equal_nan)\u001b[0m\n\u001b[0;32m   2268\u001b[0m \u001b[1;33m\u001b[0m\u001b[0m\n\u001b[0;32m   2269\u001b[0m     \"\"\"\n\u001b[1;32m-> 2270\u001b[1;33m     \u001b[0mres\u001b[0m \u001b[1;33m=\u001b[0m \u001b[0mall\u001b[0m\u001b[1;33m(\u001b[0m\u001b[0misclose\u001b[0m\u001b[1;33m(\u001b[0m\u001b[0ma\u001b[0m\u001b[1;33m,\u001b[0m \u001b[0mb\u001b[0m\u001b[1;33m,\u001b[0m \u001b[0mrtol\u001b[0m\u001b[1;33m=\u001b[0m\u001b[0mrtol\u001b[0m\u001b[1;33m,\u001b[0m \u001b[0matol\u001b[0m\u001b[1;33m=\u001b[0m\u001b[0matol\u001b[0m\u001b[1;33m,\u001b[0m \u001b[0mequal_nan\u001b[0m\u001b[1;33m=\u001b[0m\u001b[0mequal_nan\u001b[0m\u001b[1;33m)\u001b[0m\u001b[1;33m)\u001b[0m\u001b[1;33m\u001b[0m\u001b[1;33m\u001b[0m\u001b[0m\n\u001b[0m\u001b[0;32m   2271\u001b[0m     \u001b[1;32mreturn\u001b[0m \u001b[0mbool\u001b[0m\u001b[1;33m(\u001b[0m\u001b[0mres\u001b[0m\u001b[1;33m)\u001b[0m\u001b[1;33m\u001b[0m\u001b[1;33m\u001b[0m\u001b[0m\n\u001b[0;32m   2272\u001b[0m \u001b[1;33m\u001b[0m\u001b[0m\n",
      "\u001b[1;32mC:\\Softwares\\Python\\lib\\site-packages\\numpy\\core\\numeric.py\u001b[0m in \u001b[0;36misclose\u001b[1;34m(a, b, rtol, atol, equal_nan)\u001b[0m\n\u001b[0;32m   2361\u001b[0m     \u001b[0my\u001b[0m \u001b[1;33m=\u001b[0m \u001b[0marray\u001b[0m\u001b[1;33m(\u001b[0m\u001b[0my\u001b[0m\u001b[1;33m,\u001b[0m \u001b[0mdtype\u001b[0m\u001b[1;33m=\u001b[0m\u001b[0mdt\u001b[0m\u001b[1;33m,\u001b[0m \u001b[0mcopy\u001b[0m\u001b[1;33m=\u001b[0m\u001b[1;32mFalse\u001b[0m\u001b[1;33m,\u001b[0m \u001b[0msubok\u001b[0m\u001b[1;33m=\u001b[0m\u001b[1;32mTrue\u001b[0m\u001b[1;33m)\u001b[0m\u001b[1;33m\u001b[0m\u001b[1;33m\u001b[0m\u001b[0m\n\u001b[0;32m   2362\u001b[0m \u001b[1;33m\u001b[0m\u001b[0m\n\u001b[1;32m-> 2363\u001b[1;33m     \u001b[0mxfin\u001b[0m \u001b[1;33m=\u001b[0m \u001b[0misfinite\u001b[0m\u001b[1;33m(\u001b[0m\u001b[0mx\u001b[0m\u001b[1;33m)\u001b[0m\u001b[1;33m\u001b[0m\u001b[1;33m\u001b[0m\u001b[0m\n\u001b[0m\u001b[0;32m   2364\u001b[0m     \u001b[0myfin\u001b[0m \u001b[1;33m=\u001b[0m \u001b[0misfinite\u001b[0m\u001b[1;33m(\u001b[0m\u001b[0my\u001b[0m\u001b[1;33m)\u001b[0m\u001b[1;33m\u001b[0m\u001b[1;33m\u001b[0m\u001b[0m\n\u001b[0;32m   2365\u001b[0m     \u001b[1;32mif\u001b[0m \u001b[0mall\u001b[0m\u001b[1;33m(\u001b[0m\u001b[0mxfin\u001b[0m\u001b[1;33m)\u001b[0m \u001b[1;32mand\u001b[0m \u001b[0mall\u001b[0m\u001b[1;33m(\u001b[0m\u001b[0myfin\u001b[0m\u001b[1;33m)\u001b[0m\u001b[1;33m:\u001b[0m\u001b[1;33m\u001b[0m\u001b[1;33m\u001b[0m\u001b[0m\n",
      "\u001b[1;31mTypeError\u001b[0m: ufunc 'isfinite' not supported for the input types, and the inputs could not be safely coerced to any supported types according to the casting rule ''safe''"
     ]
    }
   ],
   "source": [
    "check_assignment3() \n",
    "\n",
    "# import generate_submission\n",
    "# generate_submission.output('3')"
   ]
  }
 ],
 "metadata": {
  "kernelspec": {
   "display_name": "Python 3",
   "language": "python",
   "name": "python3"
  },
  "language_info": {
   "codemirror_mode": {
    "name": "ipython",
    "version": 3
   },
   "file_extension": ".py",
   "mimetype": "text/x-python",
   "name": "python",
   "nbconvert_exporter": "python",
   "pygments_lexer": "ipython3",
   "version": "3.6.7"
  }
 },
 "nbformat": 4,
 "nbformat_minor": 2
}
