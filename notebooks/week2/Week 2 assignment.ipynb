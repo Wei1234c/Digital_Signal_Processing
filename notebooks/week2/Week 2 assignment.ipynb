{
 "cells": [
  {
   "cell_type": "markdown",
   "metadata": {},
   "source": [
    "# Week 2 assignment\n",
    "https://www.coursera.org/learn/dsp/exam/jYkyi/homework-for-module-2"
   ]
  },
  {
   "cell_type": "code",
   "execution_count": 2,
   "metadata": {},
   "outputs": [
    {
     "name": "stdout",
     "output_type": "stream",
     "text": [
      "Populating the interactive namespace from numpy and matplotlib\n"
     ]
    }
   ],
   "source": [
    "%pylab inline"
   ]
  },
  {
   "cell_type": "code",
   "execution_count": 2,
   "metadata": {},
   "outputs": [],
   "source": [
    "import os\n",
    "import sys \n",
    "\n",
    "path = 'C:\\\\Users\\\\Wei\\\\Dropbox\\\\Coding\\\\notebooks\\\\專案\\\\待處理\\\\Waves\\\\bitbucket\\\\github\\\\codes'\n",
    "path = '/home/wei/Dropbox/Coding/notebooks/專案/待處理/Waves/bitbucket/github/codes'\n",
    "sys.path.append(path)\n",
    "\n",
    "from waves.tools.wavelet import *"
   ]
  },
  {
   "cell_type": "markdown",
   "metadata": {},
   "source": [
    "### 2. Find v3 to form basis"
   ]
  },
  {
   "cell_type": "code",
   "execution_count": 3,
   "metadata": {},
   "outputs": [
    {
     "data": {
      "text/plain": [
       "array([[ 1,  1,  1],\n",
       "       [ 1,  1, -1],\n",
       "       [ 1, -1,  1],\n",
       "       [ 1, -1, -1]])"
      ]
     },
     "execution_count": 3,
     "metadata": {},
     "output_type": "execute_result"
    }
   ],
   "source": [
    "v0 = np.array(( 1,  1,  1,  1)).reshape((-1, 1))\n",
    "v1 = np.array(( 1,  1, -1, -1)).reshape((-1, 1))\n",
    "v2 = np.array(( 1, -1,  1, -1)).reshape((-1, 1))\n",
    "\n",
    "np.hstack((v0, v1, v2))"
   ]
  },
  {
   "cell_type": "markdown",
   "metadata": {},
   "source": [
    "### 列出適合的 v3"
   ]
  },
  {
   "cell_type": "code",
   "execution_count": 4,
   "metadata": {},
   "outputs": [
    {
     "data": {
      "text/plain": [
       "array([[ 0, -1, -1, -1,  1],\n",
       "       [ 0, -1, -1,  1, -1],\n",
       "       [ 0, -1,  1, -1, -1],\n",
       "       [ 0, -1,  1,  1, -1],\n",
       "       [ 0, -1,  1,  1,  1],\n",
       "       [ 0,  1, -1, -1, -1],\n",
       "       [ 0,  1, -1, -1,  1],\n",
       "       [ 0,  1, -1,  1,  1],\n",
       "       [ 0,  1,  1, -1,  1],\n",
       "       [ 0,  1,  1,  1, -1],\n",
       "       [ 1, -1, -1, -1,  0]])"
      ]
     },
     "execution_count": 4,
     "metadata": {},
     "output_type": "execute_result"
    }
   ],
   "source": [
    "from itertools import permutations, combinations\n",
    "\n",
    "\n",
    "def list_v3s():\n",
    "\n",
    "    def count(a, n):\n",
    "        return a.count(n)\n",
    "           \n",
    "    v3s = []\n",
    "    perms = permutations((-1, 1, 0) * 4, 4)  \n",
    "\n",
    "    for perm in perms:\n",
    "        v3 =  np.array(perm).reshape((-1, 1))\n",
    "        V = np.hstack((v0, v1, v2, v3))\n",
    "        d = np.linalg.det(V)\n",
    "\n",
    "        if  d != 0:\n",
    "            v3s.append((count(perm, 0), *perm))  \n",
    "\n",
    "    v3s = np.array(sorted(v3s))\n",
    "    v3s = np.unique(v3s, axis = 0)\n",
    "    \n",
    "    return v3s\n",
    "\n",
    "v3s = list_v3s()\n",
    "v3s[:11]"
   ]
  },
  {
   "cell_type": "markdown",
   "metadata": {},
   "source": [
    "### 求取能讓 V 有 invert 矩陣的 v3"
   ]
  },
  {
   "cell_type": "code",
   "execution_count": 5,
   "metadata": {
    "scrolled": false
   },
   "outputs": [
    {
     "data": {
      "text/plain": [
       "array([[-1, -1, -1,  1],\n",
       "       [-1, -1,  1, -1],\n",
       "       [-1,  1, -1, -1],\n",
       "       [-1,  1,  1, -1],\n",
       "       [-1,  1,  1,  1],\n",
       "       [ 1, -1, -1, -1],\n",
       "       [ 1, -1, -1,  1],\n",
       "       [ 1, -1,  1,  1],\n",
       "       [ 1,  1, -1,  1],\n",
       "       [ 1,  1,  1, -1]])"
      ]
     },
     "execution_count": 5,
     "metadata": {},
     "output_type": "execute_result"
    }
   ],
   "source": [
    "def has_inv(v3s):\n",
    "    \n",
    "    matchs = []\n",
    "    \n",
    "    for v3 in v3s: \n",
    "        \n",
    "        V = np.hstack((v0, v1, v2, v3[1:].reshape((-1, 1))))\n",
    "        \n",
    "        try:\n",
    "            invert = np.dot(V, np.linalg.inv(V))            \n",
    "            matchs.append(v3[1:])\n",
    "            \n",
    "        except:\n",
    "            pass\n",
    "        \n",
    "    return np.vstack(matchs)\n",
    "\n",
    "matchs = has_inv(v3s)\n",
    "matchs[:10]"
   ]
  },
  {
   "cell_type": "markdown",
   "metadata": {},
   "source": [
    "### 驗證"
   ]
  },
  {
   "cell_type": "code",
   "execution_count": 6,
   "metadata": {},
   "outputs": [
    {
     "data": {
      "text/plain": [
       "array([[-1, -1, -1,  1],\n",
       "       [-1, -1,  1, -1],\n",
       "       [-1,  1, -1, -1],\n",
       "       [-1,  1,  1, -1],\n",
       "       [-1,  1,  1,  1],\n",
       "       [ 1, -1, -1, -1],\n",
       "       [ 1, -1, -1,  1],\n",
       "       [ 1, -1,  1,  1],\n",
       "       [ 1,  1, -1,  1],\n",
       "       [ 1,  1,  1, -1],\n",
       "       [-1, -1, -1,  0]])"
      ]
     },
     "execution_count": 6,
     "metadata": {},
     "output_type": "execute_result"
    }
   ],
   "source": [
    "def verify(matchs, v0 = v0, v1 = v1, v2 = v2):\n",
    "    \n",
    "    def check(v3, v0 = v0, v1 = v1, v2 = v2):\n",
    "        v3 = v3.reshape((-1, 1))\n",
    "\n",
    "        v0 = v0 / np.linalg.norm(v0)\n",
    "        v1 = v1 / np.linalg.norm(v1)\n",
    "        v2 = v2 / np.linalg.norm(v2)\n",
    "        v3 = v3 / np.linalg.norm(v3)\n",
    "\n",
    "        V = np.hstack((v0, v1, v2, v3))\n",
    "\n",
    "        if np.linalg.det(V) == 0:\n",
    "            return False\n",
    "\n",
    "        try:\n",
    "            inv = np.dot(V, np.linalg.inv(V))        \n",
    "        except:\n",
    "            return False\n",
    "\n",
    "        return True\n",
    "\n",
    "        \n",
    "    verifieds = []\n",
    "\n",
    "    for match in matchs: \n",
    "        if check(match):\n",
    "            verifieds.append(match)\n",
    "            \n",
    "    return np.vstack(verifieds)\n",
    "        \n",
    "verifieds = verify(matchs)\n",
    "verifieds[:11]"
   ]
  },
  {
   "cell_type": "markdown",
   "metadata": {},
   "source": [
    "### 任意選定 v3 來驗證"
   ]
  },
  {
   "cell_type": "code",
   "execution_count": 7,
   "metadata": {},
   "outputs": [],
   "source": [
    "v3 = verifieds[3]\n",
    "v3 = np.array(v3).reshape((-1, 1))"
   ]
  },
  {
   "cell_type": "code",
   "execution_count": 8,
   "metadata": {},
   "outputs": [
    {
     "data": {
      "text/plain": [
       "array([[ 0.5,  0.5,  0.5, -0.5],\n",
       "       [ 0.5,  0.5, -0.5,  0.5],\n",
       "       [ 0.5, -0.5,  0.5,  0.5],\n",
       "       [ 0.5, -0.5, -0.5, -0.5]])"
      ]
     },
     "execution_count": 8,
     "metadata": {},
     "output_type": "execute_result"
    }
   ],
   "source": [
    "v0 = v0 / np.linalg.norm(v0)\n",
    "v1 = v1 / np.linalg.norm(v1)\n",
    "v2 = v2 / np.linalg.norm(v2)\n",
    "v3 = v3 / np.linalg.norm(v3)\n",
    "\n",
    "V = np.hstack((v0, v1, v2, v3))\n",
    "V"
   ]
  },
  {
   "cell_type": "markdown",
   "metadata": {},
   "source": [
    "### 檢查是否 det 不為 0"
   ]
  },
  {
   "cell_type": "code",
   "execution_count": 9,
   "metadata": {},
   "outputs": [
    {
     "data": {
      "text/plain": [
       "1.0"
      ]
     },
     "execution_count": 9,
     "metadata": {},
     "output_type": "execute_result"
    }
   ],
   "source": [
    "np.linalg.det(V)"
   ]
  },
  {
   "cell_type": "markdown",
   "metadata": {},
   "source": [
    "### 檢查是否有反矩陣"
   ]
  },
  {
   "cell_type": "code",
   "execution_count": 10,
   "metadata": {},
   "outputs": [
    {
     "data": {
      "text/plain": [
       "array([[1., 0., 0., 0.],\n",
       "       [0., 1., 0., 0.],\n",
       "       [0., 0., 1., 0.],\n",
       "       [0., 0., 0., 1.]])"
      ]
     },
     "execution_count": 10,
     "metadata": {},
     "output_type": "execute_result"
    }
   ],
   "source": [
    "np.dot(V, np.linalg.inv(V)) "
   ]
  },
  {
   "cell_type": "code",
   "execution_count": 11,
   "metadata": {},
   "outputs": [
    {
     "data": {
      "text/plain": [
       "array([[1., 0., 0., 0.],\n",
       "       [0., 1., 0., 0.],\n",
       "       [0., 0., 1., 0.],\n",
       "       [0., 0., 0., 1.]])"
      ]
     },
     "execution_count": 11,
     "metadata": {},
     "output_type": "execute_result"
    }
   ],
   "source": [
    "np.dot(np.linalg.inv(V), V) "
   ]
  },
  {
   "cell_type": "markdown",
   "metadata": {},
   "source": [
    "### 3. "
   ]
  },
  {
   "cell_type": "code",
   "execution_count": 13,
   "metadata": {},
   "outputs": [
    {
     "data": {
      "text/plain": [
       "array([[ 1],\n",
       "       [ 2],\n",
       "       [-1],\n",
       "       [ 0]])"
      ]
     },
     "execution_count": 13,
     "metadata": {},
     "output_type": "execute_result"
    }
   ],
   "source": [
    "y = np.array((1, 2, -1, 0)).reshape((-1, 1))\n",
    "y"
   ]
  },
  {
   "cell_type": "code",
   "execution_count": 14,
   "metadata": {},
   "outputs": [
    {
     "name": "stdout",
     "output_type": "stream",
     "text": [
      "[1.0 2.0 -1.0 0.0]\n"
     ]
    }
   ],
   "source": [
    "x = np.dot(np.linalg.inv(V), y)\n",
    "print(str(x.ravel().tolist()).replace(',', ''))"
   ]
  },
  {
   "cell_type": "code",
   "execution_count": 16,
   "metadata": {},
   "outputs": [
    {
     "data": {
      "text/plain": [
       "True"
      ]
     },
     "execution_count": 16,
     "metadata": {},
     "output_type": "execute_result"
    }
   ],
   "source": [
    "np.all(np.dot(V, x) == y)"
   ]
  },
  {
   "cell_type": "markdown",
   "metadata": {},
   "source": [
    "### 對每一個 v3，y 在 V 空間中的座標是唯一"
   ]
  },
  {
   "cell_type": "code",
   "execution_count": 15,
   "metadata": {
    "scrolled": true
   },
   "outputs": [
    {
     "name": "stdout",
     "output_type": "stream",
     "text": [
      "[1.0 2.0 -1.0 0.0]\n",
      "[1.0 2.0 -1.0 0.0]\n",
      "[1.0 2.0 -1.0 0.0]\n",
      "[1.0 2.0 -1.0 0.0]\n",
      "[1.0 2.0 -1.0 0.0]\n",
      "[1.0 2.0 -1.0 0.0]\n",
      "[1.0 2.0 -1.0 0.0]\n",
      "[1.0 2.0 -1.0 0.0]\n",
      "[1.0 2.0 -1.0 0.0]\n",
      "[1.0 2.0 -1.0 0.0]\n",
      "[1.0 2.0 -1.0 0.0]\n",
      "[1.0 2.0 -1.0 0.0]\n",
      "[1.0 2.0 -1.0 0.0]\n",
      "[1.0 2.0 -1.0 0.0]\n",
      "[1.0 2.0 -1.0 0.0]\n",
      "[1.0 2.0 -1.0 0.0]\n",
      "[1.0000000000000004 2.0 -1.0 0.0]\n",
      "[1.0 2.0 -1.0 0.0]\n",
      "[1.0 2.0 -1.0 0.0]\n",
      "[1.0 2.0 -1.0 0.0]\n",
      "[1.0 2.0 -1.0 0.0]\n",
      "[1.0 2.0 -1.0 0.0]\n",
      "[1.0 2.0 -1.0 0.0]\n",
      "[1.0 2.0 -1.0 0.0]\n",
      "[1.0 2.0 -1.0 0.0]\n",
      "[1.0 2.0 -1.0 0.0]\n",
      "[1.0 2.0 -1.0 0.0]\n",
      "[1.0 2.0 -1.0 0.0]\n",
      "[1.0 2.0 -1.0 0.0]\n",
      "[1.0 2.0 -1.0 0.0]\n",
      "[1.0 2.0 -1.0 0.0]\n",
      "[1.0 2.0 -1.0 0.0]\n",
      "[1.0 2.0 -1.0 0.0]\n",
      "[1.0 2.0 -1.0 0.0]\n",
      "[1.0 2.0 -1.0 0.0]\n",
      "[1.0000000000000004 2.0 -1.0 0.0]\n",
      "[1.0 2.0 -1.0 0.0]\n",
      "[1.0 2.0 -1.0 0.0]\n",
      "[1.0 2.0 -1.0 0.0]\n",
      "[1.0 2.0 -1.0 0.0]\n",
      "[1.0 2.0 -1.0 0.0]\n",
      "[1.0 2.0 -1.0 0.0]\n",
      "[1.0 2.0 -1.0 0.0]\n",
      "[1.0 2.0 -1.0 0.0]\n",
      "[1.0 2.0 -1.0 0.0]\n",
      "[1.0 2.0 -1.0 0.0]\n",
      "[1.0 2.0 -1.0 0.0]\n",
      "[1.0 2.0 -1.0 0.0]\n",
      "[1.0 2.0 -1.0 0.0]\n",
      "[1.0 2.0 -1.0 0.0]\n",
      "[1.0 2.0 -1.0 0.0]\n",
      "[1.0 2.0 -1.0 0.0]\n",
      "[1.0 2.0 -1.0 0.0]\n",
      "[1.0 2.0 -1.0 0.0]\n",
      "[1.0 2.0 -1.0 0.0]\n",
      "[1.0 2.0 -1.0 0.0]\n",
      "[1.0 2.0 -1.0 0.0]\n",
      "[1.0 2.0 -1.0 0.0]\n",
      "[1.0 2.0 -1.0 0.0]\n",
      "[1.0 2.0 -1.0 0.0]\n",
      "[1.0 2.0 -1.0 0.0]\n",
      "[1.0 2.0 -1.0 0.0]\n"
     ]
    }
   ],
   "source": [
    "def get_x(V):    \n",
    "    x = np.dot(np.linalg.inv(V), y)\n",
    "    print(str(x.ravel().tolist()).replace(',', ''))\n",
    "    \n",
    "    \n",
    "for verified in verifieds:\n",
    "    \n",
    "    v3 =  verified.reshape((-1, 1)) \n",
    "    \n",
    "    v0 = v0 / np.linalg.norm(v0)\n",
    "    v1 = v1 / np.linalg.norm(v1)\n",
    "    v2 = v2 / np.linalg.norm(v2)\n",
    "    v3 = v3 / np.linalg.norm(v3)\n",
    "\n",
    "    V = np.hstack((v0, v1, v2, v3))\n",
    "    \n",
    "    get_x(V)"
   ]
  },
  {
   "cell_type": "markdown",
   "metadata": {},
   "source": [
    "### 5. \n",
    "1 0 -1 -1 1 0 0 -1 1"
   ]
  },
  {
   "cell_type": "code",
   "execution_count": 5,
   "metadata": {},
   "outputs": [
    {
     "data": {
      "text/plain": [
       "array([[ 1,  0, -1],\n",
       "       [-1,  1,  0],\n",
       "       [ 0, -1,  1]])"
      ]
     },
     "execution_count": 5,
     "metadata": {},
     "output_type": "execute_result"
    }
   ],
   "source": [
    "D = np.array([[1, 0, -1],[-1, 1, 0],[0, -1, 1]])\n",
    "D"
   ]
  },
  {
   "cell_type": "code",
   "execution_count": 6,
   "metadata": {},
   "outputs": [
    {
     "data": {
      "text/plain": [
       "'[1 0 -1 -1 1 0 0 -1 1]'"
      ]
     },
     "execution_count": 6,
     "metadata": {},
     "output_type": "execute_result"
    }
   ],
   "source": [
    "str(D.ravel().tolist()).replace(',', '')"
   ]
  },
  {
   "cell_type": "markdown",
   "metadata": {},
   "source": [
    "### 6. \n",
    "1 0 0 0 0 1 0 0 0 0 1 0 0 0 0 1"
   ]
  },
  {
   "cell_type": "code",
   "execution_count": 15,
   "metadata": {},
   "outputs": [
    {
     "data": {
      "text/plain": [
       "array([[0, 0, 0, 1],\n",
       "       [1, 0, 0, 0],\n",
       "       [0, 1, 0, 0],\n",
       "       [0, 0, 1, 0]])"
      ]
     },
     "execution_count": 15,
     "metadata": {},
     "output_type": "execute_result"
    }
   ],
   "source": [
    "a = np.array((0, 0, 0, 1, 1, 0, 0, 0, 0, 1, 0, 0, 0, 0, 1, 0)).reshape((4, 4))\n",
    "a"
   ]
  },
  {
   "cell_type": "code",
   "execution_count": 16,
   "metadata": {},
   "outputs": [
    {
     "data": {
      "text/plain": [
       "array([[1, 0, 0, 0],\n",
       "       [0, 1, 0, 0],\n",
       "       [0, 0, 1, 0],\n",
       "       [0, 0, 0, 1]])"
      ]
     },
     "execution_count": 16,
     "metadata": {},
     "output_type": "execute_result"
    }
   ],
   "source": [
    "a4 = np.linalg.matrix_power(a, 4)\n",
    "a4"
   ]
  },
  {
   "cell_type": "code",
   "execution_count": 17,
   "metadata": {},
   "outputs": [
    {
     "data": {
      "text/plain": [
       "'[1 0 0 0 0 1 0 0 0 0 1 0 0 0 0 1]'"
      ]
     },
     "execution_count": 17,
     "metadata": {},
     "output_type": "execute_result"
    }
   ],
   "source": [
    "str(a4.ravel().tolist()).replace(',', '')"
   ]
  }
 ],
 "metadata": {
  "kernelspec": {
   "display_name": "Python 3",
   "language": "python",
   "name": "python3"
  },
  "language_info": {
   "codemirror_mode": {
    "name": "ipython",
    "version": 3
   },
   "file_extension": ".py",
   "mimetype": "text/x-python",
   "name": "python",
   "nbconvert_exporter": "python",
   "pygments_lexer": "ipython3",
   "version": "3.6.6"
  }
 },
 "nbformat": 4,
 "nbformat_minor": 2
}
