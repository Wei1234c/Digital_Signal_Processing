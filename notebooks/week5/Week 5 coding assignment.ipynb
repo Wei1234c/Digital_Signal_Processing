{
 "cells": [
  {
   "cell_type": "markdown",
   "metadata": {},
   "source": [
    "# Week 5 coding assignment"
   ]
  },
  {
   "cell_type": "code",
   "execution_count": 1,
   "metadata": {},
   "outputs": [
    {
     "name": "stdout",
     "output_type": "stream",
     "text": [
      "Populating the interactive namespace from numpy and matplotlib\n"
     ]
    }
   ],
   "source": [
    "%pylab inline\n",
    "\n",
    "from sympy import *\n",
    "init_printing(use_unicode = True, fontsize = 16)\n",
    "\n",
    "pi2 = pi * 2"
   ]
  },
  {
   "cell_type": "code",
   "execution_count": 2,
   "metadata": {},
   "outputs": [],
   "source": [
    "import os\n",
    "import sys \n",
    "\n",
    "if os.name == 'nt':\n",
    "    path = ['C:\\\\Users\\\\Wei\\\\Dropbox\\\\Coding\\\\notebooks\\\\專案\\\\待處理\\\\Waves\\\\bitbucket\\\\github\\\\codes',\n",
    "            'C:\\\\Users\\\\Wei\\\\Dropbox\\\\Coding\\\\notebooks\\\\工具與技術\\\\DSP\\\\github\\\\codes\\\\MP3_player']    \n",
    "    data_path = 'C:\\\\Users\\\\Wei\\\\Dropbox\\\\Coding\\\\notebooks\\\\工具與技術\\\\DSP\\\\github\\\\codes\\\\MP3_player'\n",
    "else:\n",
    "    path = ['/home/wei/Dropbox/Coding/notebooks/專案/待處理/Waves/bitbucket/github/codes',\n",
    "            '/home/wei/Dropbox/Coding/notebooks/工具與技術/DSP/github/codes/MP3_player']\n",
    "    data_path = '/home/wei/Dropbox/Coding/notebooks/工具與技術/DSP/github/codes/MP3_player'\n",
    "    \n",
    "sys.path.extend(path) \n",
    "\n",
    "from waves.sound import *\n",
    "from waves.tools.dsp import *"
   ]
  },
  {
   "cell_type": "code",
   "execution_count": 3,
   "metadata": {},
   "outputs": [],
   "source": [
    "def weighted(x):\n",
    "    N = len(x)\n",
    "    n = np.arange(N)\n",
    "    w = (1 - np.cos(2 * np.pi * n / (N - 1)))\n",
    "    w = w / np.dot(w, w)\n",
    "    return x * w\n",
    "\n",
    "\n",
    "def dft(samples):\n",
    "    samples = np.asarray(samples).reshape((-1, 1))\n",
    "    N = len(samples)\n",
    "    k = n = np.arange(N)\n",
    "    W = np.exp(np.outer(-1j * np.pi * 2 / N * k, n))\n",
    "    spectrum = np.dot(W, samples).ravel()\n",
    "    return spectrum\n",
    "\n",
    "\n",
    "def get_db(x):\n",
    "    db = 20 * np.log10(x)\n",
    "    db[np.where(x == 0)[0]] = -100\n",
    "    return db\n",
    "\n",
    "\n",
    "def scaled_fft_db(x, targeted_db = 96):\n",
    "    x = weighted(x)\n",
    "    spectrum = abs(dft(x)) / len(x)\n",
    "    spectrum = get_db(spectrum)\n",
    "    spectrum = spectrum + targeted_db - np.max(spectrum)\n",
    "    return spectrum[:257]"
   ]
  },
  {
   "cell_type": "code",
   "execution_count": 4,
   "metadata": {},
   "outputs": [],
   "source": [
    "def check_assignment1():\n",
    "    pass_test = True\n",
    "\n",
    "    for i in range(1, 5):\n",
    "        print('  Test %d:' % (i))        \n",
    "        \n",
    "        fin = 'data/testInput' + str(i) + '.wav'\n",
    "        fin = os.path.join(data_path, fin)\n",
    "        \n",
    "        fout = 'data/testOutput' + str(i) + '.wav'\n",
    "        fout = os.path.join(data_path, fout)\n",
    "        \n",
    "        r, x = wavfile.read(fin)\n",
    "\n",
    "        # compute output of assignment function\n",
    "        X = scaled_fft_db(x)\n",
    "\n",
    "        print('    Signal size is 257:', end = ' ')\n",
    "        if X.shape[0] == 257:\n",
    "            print('okay')\n",
    "        else:\n",
    "            print('fail')\n",
    "            pass_test = pass_test and False\n",
    "\n",
    "        print('    Maximum is 96 dB:', end = ' ')\n",
    "        if np.abs(X.max() - 96) < 1e-5:\n",
    "            print('okay')\n",
    "        else:\n",
    "            print('fail')\n",
    "            pass_test = pass_test and False\n",
    "\n",
    "        # compare to test output file content\n",
    "        X_check = np.loadtxt(fout)\n",
    "\n",
    "        print('    Test signals output match:', end = ' ')\n",
    "        if np.allclose(X, X_check, atol = 1e-1):\n",
    "            print('okay')\n",
    "        else:\n",
    "            print('fail')\n",
    "            pass_test = pass_test and False\n",
    "\n",
    "    print('  Test hanning window:', end = ' ')\n",
    "    x = np.ones(512)\n",
    "    x[1:-1] = 1. / np.hanning(512)[1:-1]\n",
    "    X = scaled_fft_db(x)\n",
    "    # win_test = np.zeros(257)\n",
    "    # win_test[0] = 96\n",
    "\n",
    "    if X[0] == 96 and np.all(X[1:] < 50):\n",
    "        print('okay')\n",
    "    else:\n",
    "        print('fail')\n",
    "        pass_test = pass_test and False\n",
    "\n",
    "    if pass_test:\n",
    "        print('Congratulations, your algorithm passed all the tests.')\n",
    "    else:\n",
    "        print('Sorry, your algorithm is not ready for submission yet.')"
   ]
  },
  {
   "cell_type": "code",
   "execution_count": 5,
   "metadata": {},
   "outputs": [
    {
     "name": "stdout",
     "output_type": "stream",
     "text": [
      "  Test 1:\n",
      "    Signal size is 257: okay\n",
      "    Maximum is 96 dB: okay\n",
      "    Test signals output match: okay\n",
      "  Test 2:\n",
      "    Signal size is 257: okay\n",
      "    Maximum is 96 dB: okay\n",
      "    Test signals output match: okay\n",
      "  Test 3:\n",
      "    Signal size is 257: okay\n",
      "    Maximum is 96 dB: okay\n",
      "    Test signals output match: okay\n",
      "  Test 4:\n",
      "    Signal size is 257: okay\n",
      "    Maximum is 96 dB: okay\n",
      "    Test signals output match: okay\n",
      "  Test hanning window: okay\n",
      "Congratulations, your algorithm passed all the tests.\n"
     ]
    }
   ],
   "source": [
    "from scipy.io import wavfile\n",
    "\n",
    "check_assignment1()\n",
    "\n",
    "# import generate_submission\n",
    "# generate_submission.output('1')"
   ]
  }
 ],
 "metadata": {
  "kernelspec": {
   "display_name": "Python 3",
   "language": "python",
   "name": "python3"
  },
  "language_info": {
   "codemirror_mode": {
    "name": "ipython",
    "version": 3
   },
   "file_extension": ".py",
   "mimetype": "text/x-python",
   "name": "python",
   "nbconvert_exporter": "python",
   "pygments_lexer": "ipython3",
   "version": "3.6.7"
  }
 },
 "nbformat": 4,
 "nbformat_minor": 2
}
